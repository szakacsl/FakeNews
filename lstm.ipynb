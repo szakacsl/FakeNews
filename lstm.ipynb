{
 "cells": [
  {
   "cell_type": "markdown",
   "metadata": {},
   "source": [
    "### Implementing Long Short-Term Memory to detect and classify Parkinsons' Freezing of Gait types in time series data"
   ]
  },
  {
   "cell_type": "code",
   "execution_count": 1,
   "metadata": {},
   "outputs": [],
   "source": [
    "using Pkg\n",
    "\n",
    "# Pkg.add(\"CSV\")\n",
    "# Pkg.add(\"NNlib\")\n",
    "# Pkg.add(\"DataFrames\")\n",
    "# Pkg.add(\"Distributions\")\n",
    "# Pkg.add(\"ResumableFunctions\")\n",
    "# Pkg.add(\"Flux\")\n",
    "# Pkg.add(\"BSON\")\n",
    "# Pkg.add(\"MLDataUtils\")\n",
    "# Pkg.add(\"Plots\")"
   ]
  },
  {
   "cell_type": "code",
   "execution_count": 2,
   "metadata": {},
   "outputs": [],
   "source": [
    "using Flux\n",
    "\n",
    "using CSV\n",
    "using Plots\n",
    "using NNlib\n",
    "using Random\n",
    "using DataFrames\n",
    "using Distributions\n",
    "using ResumableFunctions\n",
    "using BSON: @save, @load"
   ]
  },
  {
   "cell_type": "code",
   "execution_count": 5,
   "metadata": {},
   "outputs": [],
   "source": [
    "parkinson_train_raw = CSV.read(\"./train_data.csv\", DataFrame)\n",
    "# parkinson_validation_raw = CSV.read(\"./validation_data.csv\", DataFrame)\n",
    "\n",
    "parkinson_train = (parkinson_train_raw)\n",
    "# parkinson_validation = smoothen(parkinson_train_raw)\n",
    "\n",
    "\n",
    ";"
   ]
  },
  {
   "cell_type": "code",
   "execution_count": 7,
   "metadata": {},
   "outputs": [
    {
     "data": {
      "text/plain": [
       "data_loader (generic function with 1 method)"
      ]
     },
     "execution_count": 7,
     "metadata": {},
     "output_type": "execute_result"
    }
   ],
   "source": [
    "@resumable function data_loader(dataframe, num_sequences, num_selected_sequences, batch_size; labels=[\"StartHesitation\", \"Turn\", \"Walking\", \"Normal\"])\n",
    "    @assert num_selected_sequences <= num_sequences\n",
    "    \n",
    "    df = deepcopy(dataframe)\n",
    "    \n",
    "    sequences = collect(1:num_sequences)\n",
    "    shuffle!(sequences)\n",
    "\n",
    "    # Sending to the model\n",
    "    for i in 1:num_selected_sequences\n",
    "        # if benne van a random generalt elemek tombunkben\n",
    "        x = hcat(\n",
    "            df[!, \"AccV\"][sequences[i] * batch_size : sequences[i] * batch_size + batch_size],\n",
    "            df[!, \"AccML\"][sequences[i] * batch_size : sequences[i] * batch_size + batch_size],\n",
    "            df[!, \"AccAP\"][sequences[i] * batch_size : sequences[i] * batch_size + batch_size]\n",
    "        )\n",
    "    \n",
    "        y = Flux.onehotbatch(df[!, \"event\"][sequences[i] * batch_size : sequences[i] * batch_size + batch_size], labels)\n",
    "        \n",
    "        @yield x, y\n",
    "    end\n",
    "end"
   ]
  },
  {
   "cell_type": "code",
   "execution_count": 8,
   "metadata": {},
   "outputs": [
    {
     "data": {
      "text/plain": [
       "init_params (generic function with 1 method)"
      ]
     },
     "execution_count": 8,
     "metadata": {},
     "output_type": "execute_result"
    }
   ],
   "source": [
    "function init_params(in::Integer, out::Integer; mean=0.0, std=1.0)\n",
    "    [\n",
    "        in, out,\n",
    "        rand(Truncated(Normal(mean, std), -1, 1), out), # Wf\n",
    "        rand(Truncated(Normal(mean, std), -1, 1), out), # Wi\n",
    "        rand(Truncated(Normal(mean, std), -1, 1), out), # Wc\n",
    "        rand(Truncated(Normal(mean, std), -1, 1), out), # Wo\n",
    "        rand(Truncated(Normal(mean, std), -1, 1), out), # bf\n",
    "        rand(Truncated(Normal(mean, std), -1, 1), out), # bi\n",
    "        rand(Truncated(Normal(mean, std), -1, 1), out), # bc\n",
    "        rand(Truncated(Normal(mean, std), -1, 1), out), # bo\n",
    "        rand(Truncated(Normal(mean, std), -1, 1), out), # bo\n",
    "        rand(Truncated(Normal(mean, std), -1, 1), out), # bo\n",
    "        rand(Truncated(Normal(mean, std), -1, 1), out), # bo\n",
    "        rand(Truncated(Normal(mean, std), -1, 1), out), # bo\n",
    "\n",
    "        # both the Long-Term and Short-Term memories are initialized with 0 values\n",
    "        zeros(out),  # c\n",
    "        zeros(out),  # h\n",
    "        true # update_memory\n",
    "    ]\n",
    "end\n"
   ]
  },
  {
   "cell_type": "code",
   "execution_count": 9,
   "metadata": {},
   "outputs": [
    {
     "data": {
      "text/plain": [
       "forward (generic function with 1 method)"
      ]
     },
     "execution_count": 9,
     "metadata": {},
     "output_type": "execute_result"
    }
   ],
   "source": [
    "# implementing the forwarding method which is used in the Chaining process\n",
    "function forward(x, lstm)\n",
    "\n",
    "    for i in 1:size(x, 1)\n",
    "        long_remember_percent = NNlib.sigmoid_fast((lstm.c .* lstm.wlr1) + (x[i, :] .* lstm.wlr2) + lstm.blr1)\n",
    "        potential_remember_percent = NNlib.sigmoid_fast((lstm.h .* lstm.wpr1) + (x[i, :] .* lstm.wpr2) + lstm.bpr1)\n",
    "        potential_memory = NNlib.tanh_fast((lstm.c .* lstm.wp1) + (x[i, :] .* lstm.wp2) + lstm.bp1)\n",
    "        updated_long_memory = (lstm.c .* long_remember_percent) + (potential_memory .* potential_remember_percent)\n",
    "        output_percent = NNlib.sigmoid_fast((lstm.h .* lstm.wo1) + (x[i, :] .* lstm.wo2) + lstm.bo1)\n",
    "        updated_short_memory = NNlib.tanh_fast(updated_long_memory) .* output_percent\n",
    "\n",
    "        # updating the memory\n",
    "        if lstm.update_memory\n",
    "            lstm.c, lstm.h = updated_long_memory, updated_short_memory\n",
    "        end\n",
    "    end\n",
    "\n",
    "    lstm.c\n",
    "end"
   ]
  },
  {
   "cell_type": "code",
   "execution_count": 10,
   "metadata": {},
   "outputs": [],
   "source": [
    "# custom Long Short-Term Memory layer\n",
    "mutable struct LSTM\n",
    "    # input and output size of the layer\n",
    "    in::Integer\n",
    "    out::Integer\n",
    "\n",
    "    wlr1::Vector{Float32}\n",
    "    wlr2::Vector{Float32}\n",
    "    blr1::Vector{Float32}\n",
    "\n",
    "    wpr1::Vector{Float32}\n",
    "    wpr2::Vector{Float32}\n",
    "    bpr1::Vector{Float32}\n",
    "\n",
    "    wp1::Vector{Float32}\n",
    "    wp2::Vector{Float32}\n",
    "    bp1::Vector{Float32}\n",
    "\n",
    "    wo1::Vector{Float32}\n",
    "    wo2::Vector{Float32}\n",
    "    bo1::Vector{Float32}\n",
    "\n",
    "\n",
    "    # cell state (aka. long-term memory) and hidden state (aka. short-term memory)\n",
    "    c::Vector{Float32}\n",
    "    h::Vector{Float32}\n",
    "\n",
    "    # prevents the model from modifying the memory state in case of testing and loss calculation\n",
    "    # it needs to be set explicitely before and after calling the model(x) funtion\n",
    "    update_memory::Bool\n",
    "end"
   ]
  },
  {
   "cell_type": "code",
   "execution_count": 11,
   "metadata": {},
   "outputs": [
    {
     "data": {
      "text/plain": [
       "LSTM"
      ]
     },
     "execution_count": 11,
     "metadata": {},
     "output_type": "execute_result"
    }
   ],
   "source": [
    "# defining the constructor\n",
    "LSTM(in::Integer, out::Integer) = LSTM(init_params(in, out)...)"
   ]
  },
  {
   "cell_type": "code",
   "execution_count": 12,
   "metadata": {},
   "outputs": [],
   "source": [
    "# Overload call, so the object can be used as a function\n",
    "(lstm::LSTM)(x) = forward(x, lstm)"
   ]
  },
  {
   "cell_type": "code",
   "execution_count": 13,
   "metadata": {},
   "outputs": [],
   "source": [
    "# creating a functor from the struct, so that the training can optimize its parameters\n",
    "Flux.@functor LSTM"
   ]
  },
  {
   "cell_type": "code",
   "execution_count": 14,
   "metadata": {},
   "outputs": [
    {
     "data": {
      "text/plain": [
       "LSTM"
      ]
     },
     "execution_count": 14,
     "metadata": {},
     "output_type": "execute_result"
    }
   ],
   "source": [
    "# creating the Long Short-Term Memory layer\n",
    "function LSTM((in, out)::Pair)\n",
    "    LSTM(in, out) # constructor\n",
    "end"
   ]
  },
  {
   "cell_type": "code",
   "execution_count": 15,
   "metadata": {},
   "outputs": [],
   "source": [
    "# explicitely defining the trainable parameters of the layer\n",
    "# all the Wrights and Biases are trainable\n",
    "# exceptions >> Cell State and Hidden State\n",
    "# Flux.trainable(lstm::LSTM) = (lstm.Wf, lstm.Wi, lstm.Wc, lstm.Wo, lstm.bf, lstm.bi, lstm.bc, lstm.bo,)\n",
    "Flux.trainable(lstm::LSTM) = (lstm.wlr1, lstm.wlr2, lstm.blr1, lstm.wpr1, lstm.wpr2, lstm.bpr1, lstm.wp1, lstm.wp2, lstm.bp1, lstm.wo1, lstm.wo2, lstm.bo1)"
   ]
  },
  {
   "cell_type": "code",
   "execution_count": 16,
   "metadata": {},
   "outputs": [],
   "source": [
    "# Random generating sequences\n",
    "num_sequences = 10_000\n",
    "num_selected_sequences = 10_000\n",
    "batch_size_train = div(size(parkinson_train, 1), num_sequences)\n",
    "batch_size_validation = div(size(parkinson_validation, 1), num_sequences)\n",
    "\n",
    ";"
   ]
  },
  {
   "cell_type": "code",
   "execution_count": 17,
   "metadata": {},
   "outputs": [],
   "source": [
    "epochs = 20\n",
    "\n",
    "input_size = batch_size_train\n",
    "hidden_size = 3\n",
    "num_classes = 4 \n",
    "\n",
    "model = Chain(\n",
    "    LSTM(input_size => hidden_size),\n",
    "    Dense(hidden_size => 300),\n",
    "    Dense(300 => num_classes),\n",
    "    softmax\n",
    ")\n",
    "\n",
    ";"
   ]
  },
  {
   "cell_type": "code",
   "execution_count": 18,
   "metadata": {},
   "outputs": [],
   "source": [
    "function loss(model, x, y)\n",
    "    model[1].update_memory = false\n",
    "    l = Flux.crossentropy.(eachrow(model(x)'), eachrow(y'))\n",
    "    model[1].update_memory = true\n",
    "\n",
    "    mean(l)\n",
    "end\n",
    "\n",
    "optimizer = ADAM(0.001)\n",
    "\n",
    ";"
   ]
  },
  {
   "cell_type": "code",
   "execution_count": 19,
   "metadata": {},
   "outputs": [
    {
     "name": "stderr",
     "output_type": "stream",
     "text": [
      "\u001b[36m\u001b[1m[ \u001b[22m\u001b[39m\u001b[36m\u001b[1mInfo: \u001b[22m\u001b[39mEpoch: 1 >> Loss: 0.8388386\n",
      "\u001b[36m\u001b[1m[ \u001b[22m\u001b[39m\u001b[36m\u001b[1mInfo: \u001b[22m\u001b[39mValidation >> Loss: 0.83636415\n",
      "\u001b[36m\u001b[1m[ \u001b[22m\u001b[39m\u001b[36m\u001b[1mInfo: \u001b[22m\u001b[39mEpoch: 2 >> Loss: 0.83724785\n",
      "\u001b[36m\u001b[1m[ \u001b[22m\u001b[39m\u001b[36m\u001b[1mInfo: \u001b[22m\u001b[39mValidation >> Loss: 0.83711463\n",
      "\u001b[36m\u001b[1m[ \u001b[22m\u001b[39m\u001b[36m\u001b[1mInfo: \u001b[22m\u001b[39mEpoch: 3 >> Loss: 0.8370718\n",
      "\u001b[36m\u001b[1m[ \u001b[22m\u001b[39m\u001b[36m\u001b[1mInfo: \u001b[22m\u001b[39mValidation >> Loss: 0.83700037\n",
      "\u001b[36m\u001b[1m[ \u001b[22m\u001b[39m\u001b[36m\u001b[1mInfo: \u001b[22m\u001b[39mEpoch: 4 >> Loss: 0.8369731\n",
      "\u001b[36m\u001b[1m[ \u001b[22m\u001b[39m\u001b[36m\u001b[1mInfo: \u001b[22m\u001b[39mValidation >> Loss: 0.8369413\n",
      "\u001b[36m\u001b[1m[ \u001b[22m\u001b[39m\u001b[36m\u001b[1mInfo: \u001b[22m\u001b[39mEpoch: 5 >> Loss: 0.8368937\n",
      "\u001b[36m\u001b[1m[ \u001b[22m\u001b[39m\u001b[36m\u001b[1mInfo: \u001b[22m\u001b[39mValidation >> Loss: 0.8371629\n",
      "\u001b[36m\u001b[1m[ \u001b[22m\u001b[39m\u001b[36m\u001b[1mInfo: \u001b[22m\u001b[39mEpoch: 6 >> Loss: 0.8368194\n",
      "\u001b[36m\u001b[1m[ \u001b[22m\u001b[39m\u001b[36m\u001b[1mInfo: \u001b[22m\u001b[39mValidation >> Loss: 0.83631104\n",
      "\u001b[36m\u001b[1m[ \u001b[22m\u001b[39m\u001b[36m\u001b[1mInfo: \u001b[22m\u001b[39mEpoch: 7 >> Loss: 0.8367586\n",
      "\u001b[36m\u001b[1m[ \u001b[22m\u001b[39m\u001b[36m\u001b[1mInfo: \u001b[22m\u001b[39mValidation >> Loss: 0.8363326\n",
      "\u001b[36m\u001b[1m[ \u001b[22m\u001b[39m\u001b[36m\u001b[1mInfo: \u001b[22m\u001b[39mEpoch: 8 >> Loss: 0.8367446\n",
      "\u001b[36m\u001b[1m[ \u001b[22m\u001b[39m\u001b[36m\u001b[1mInfo: \u001b[22m\u001b[39mValidation >> Loss: 0.8365881\n",
      "\u001b[36m\u001b[1m[ \u001b[22m\u001b[39m\u001b[36m\u001b[1mInfo: \u001b[22m\u001b[39mEpoch: 9 >> Loss: 0.8367296\n",
      "\u001b[36m\u001b[1m[ \u001b[22m\u001b[39m\u001b[36m\u001b[1mInfo: \u001b[22m\u001b[39mValidation >> Loss: 0.83626896\n",
      "\u001b[36m\u001b[1m[ \u001b[22m\u001b[39m\u001b[36m\u001b[1mInfo: \u001b[22m\u001b[39mEpoch: 10 >> Loss: 0.8367089\n",
      "\u001b[36m\u001b[1m[ \u001b[22m\u001b[39m\u001b[36m\u001b[1mInfo: \u001b[22m\u001b[39mValidation >> Loss: 0.8387633\n",
      "\u001b[36m\u001b[1m[ \u001b[22m\u001b[39m\u001b[36m\u001b[1mInfo: \u001b[22m\u001b[39mEpoch: 11 >> Loss: 0.83663106\n",
      "\u001b[36m\u001b[1m[ \u001b[22m\u001b[39m\u001b[36m\u001b[1mInfo: \u001b[22m\u001b[39mValidation >> Loss: 0.8367184\n",
      "\u001b[36m\u001b[1m[ \u001b[22m\u001b[39m\u001b[36m\u001b[1mInfo: \u001b[22m\u001b[39mEpoch: 12 >> Loss: 0.83667225\n",
      "\u001b[36m\u001b[1m[ \u001b[22m\u001b[39m\u001b[36m\u001b[1mInfo: \u001b[22m\u001b[39mValidation >> Loss: 0.8365145\n",
      "\u001b[36m\u001b[1m[ \u001b[22m\u001b[39m\u001b[36m\u001b[1mInfo: \u001b[22m\u001b[39mEpoch: 13 >> Loss: 0.83665925\n",
      "\u001b[36m\u001b[1m[ \u001b[22m\u001b[39m\u001b[36m\u001b[1mInfo: \u001b[22m\u001b[39mValidation >> Loss: 0.8363441\n",
      "\u001b[36m\u001b[1m[ \u001b[22m\u001b[39m\u001b[36m\u001b[1mInfo: \u001b[22m\u001b[39mEpoch: 14 >> Loss: 0.83664393\n",
      "\u001b[36m\u001b[1m[ \u001b[22m\u001b[39m\u001b[36m\u001b[1mInfo: \u001b[22m\u001b[39mValidation >> Loss: 0.836363\n",
      "\u001b[36m\u001b[1m[ \u001b[22m\u001b[39m\u001b[36m\u001b[1mInfo: \u001b[22m\u001b[39mEpoch: 15 >> Loss: 0.83663654\n",
      "\u001b[36m\u001b[1m[ \u001b[22m\u001b[39m\u001b[36m\u001b[1mInfo: \u001b[22m\u001b[39mValidation >> Loss: 0.8364634\n",
      "\u001b[36m\u001b[1m[ \u001b[22m\u001b[39m\u001b[36m\u001b[1mInfo: \u001b[22m\u001b[39mEpoch: 16 >> Loss: 0.8366081\n",
      "\u001b[36m\u001b[1m[ \u001b[22m\u001b[39m\u001b[36m\u001b[1mInfo: \u001b[22m\u001b[39mValidation >> Loss: 0.83627754\n",
      "\u001b[36m\u001b[1m[ \u001b[22m\u001b[39m\u001b[36m\u001b[1mInfo: \u001b[22m\u001b[39mEpoch: 17 >> Loss: 0.8365827\n",
      "\u001b[36m\u001b[1m[ \u001b[22m\u001b[39m\u001b[36m\u001b[1mInfo: \u001b[22m\u001b[39mValidation >> Loss: 0.83629763\n",
      "\u001b[36m\u001b[1m[ \u001b[22m\u001b[39m\u001b[36m\u001b[1mInfo: \u001b[22m\u001b[39mEpoch: 18 >> Loss: 0.83662385\n",
      "\u001b[36m\u001b[1m[ \u001b[22m\u001b[39m\u001b[36m\u001b[1mInfo: \u001b[22m\u001b[39mValidation >> Loss: 0.83638114\n",
      "\u001b[36m\u001b[1m[ \u001b[22m\u001b[39m\u001b[36m\u001b[1mInfo: \u001b[22m\u001b[39mEpoch: 19 >> Loss: 0.83659005\n",
      "\u001b[36m\u001b[1m[ \u001b[22m\u001b[39m\u001b[36m\u001b[1mInfo: \u001b[22m\u001b[39mValidation >> Loss: 0.8366473\n",
      "\u001b[36m\u001b[1m[ \u001b[22m\u001b[39m\u001b[36m\u001b[1mInfo: \u001b[22m\u001b[39mEpoch: 20 >> Loss: 0.8365823\n",
      "\u001b[36m\u001b[1m[ \u001b[22m\u001b[39m\u001b[36m\u001b[1mInfo: \u001b[22m\u001b[39mValidation >> Loss: 0.837039\n"
     ]
    }
   ],
   "source": [
    "train_losses = []\n",
    "validation_losses = []\n",
    "\n",
    "for epoch in 1:epochs\n",
    "\n",
    "  epoch_loss = 0f0\n",
    "\n",
    "  for (x, y) in data_loader(parkinson_train, num_sequences, num_selected_sequences, batch_size_train)\n",
    "    grads = Flux.gradient(Flux.params(model)) do\n",
    "      l = loss(model, x, y) \n",
    "      epoch_loss += l\n",
    "\n",
    "      l\n",
    "    end\n",
    "    Flux.update!(optimizer, Flux.params(model), grads)\n",
    "  end\n",
    "\n",
    "  train_loss = epoch_loss / num_selected_sequences \n",
    "  @info \"Epoch: $epoch >> Loss: $train_loss\"\n",
    "  append!(train_losses, train_loss)\n",
    "\n",
    "  \n",
    "  #Validation for epoch\n",
    "  epoch_loss = 0f0\n",
    "\n",
    "  for (x, y) in data_loader(parkinson_validation, num_sequences, num_selected_sequences, batch_size_validation)\n",
    "      l = loss(model, x, y) \n",
    "      epoch_loss += l\n",
    "\n",
    "      l\n",
    "  end\n",
    "\n",
    "  validation_loss = epoch_loss / num_selected_sequences \n",
    "  @info \"Validation >> Loss: $validation_loss\"\n",
    "  append!(validation_losses, train_loss)\n",
    "\n",
    "end\n",
    "\n",
    "@save \"LSTM.bson\" model"
   ]
  },
  {
   "cell_type": "code",
   "execution_count": 20,
   "metadata": {},
   "outputs": [
    {
     "data": {
      "image/png": "[encoded data removed]",
      "image/svg+xml": [
       "<?xml version=\"1.0\" encoding=\"utf-8\"?>\n",
       "<svg xmlns=\"http://www.w3.org/2000/svg\" xmlns:xlink=\"http://www.w3.org/1999/xlink\" width=\"600\" height=\"400\" viewBox=\"0 0 2400 1600\">\n",
       "<defs>\n",
       "  <clipPath id=\"clip230\">\n",
       "    <rect x=\"0\" y=\"0\" width=\"2400\" height=\"1600\"/>\n",
       "  </clipPath>\n",
       "</defs>\n",
       "<path clip-path=\"url(#clip230)\" d=\"M0 1600 L2400 1600 L2400 0 L0 0  Z\" fill=\"#ffffff\" fill-rule=\"evenodd\" fill-opacity=\"1\"/>\n",
       "<defs>\n",
       "  <clipPath id=\"clip231\">\n",
       "    <rect x=\"480\" y=\"0\" width=\"1681\" height=\"1600\"/>\n",
       "  </clipPath>\n",
       "</defs>\n",
       "<path clip-path=\"url(#clip230)\" d=\"M246.598 1423.18 L2352.76 1423.18 L2352.76 47.2441 L246.598 47.2441  Z\" fill=\"#ffffff\" fill-rule=\"evenodd\" fill-opacity=\"1\"/>\n",
       "<defs>\n",
       "  <clipPath id=\"clip232\">\n",
       "    <rect x=\"246\" y=\"47\" width=\"2107\" height=\"1377\"/>\n",
       "  </clipPath>\n",
       "</defs>\n",
       "<polyline clip-path=\"url(#clip232)\" style=\"stroke:#000000; stroke-linecap:round; stroke-linejoin:round; stroke-width:2; stroke-opacity:0.1; fill:none\" points=\"724.51,1423.18 724.51,47.2441 \"/>\n",
       "<polyline clip-path=\"url(#clip232)\" style=\"stroke:#000000; stroke-linecap:round; stroke-linejoin:round; stroke-width:2; stroke-opacity:0.1; fill:none\" points=\"1247.39,1423.18 1247.39,47.2441 \"/>\n",
       "<polyline clip-path=\"url(#clip232)\" style=\"stroke:#000000; stroke-linecap:round; stroke-linejoin:round; stroke-width:2; stroke-opacity:0.1; fill:none\" points=\"1770.27,1423.18 1770.27,47.2441 \"/>\n",
       "<polyline clip-path=\"url(#clip232)\" style=\"stroke:#000000; stroke-linecap:round; stroke-linejoin:round; stroke-width:2; stroke-opacity:0.1; fill:none\" points=\"2293.15,1423.18 2293.15,47.2441 \"/>\n",
       "<polyline clip-path=\"url(#clip230)\" style=\"stroke:#000000; stroke-linecap:round; stroke-linejoin:round; stroke-width:4; stroke-opacity:1; fill:none\" points=\"246.598,1423.18 2352.76,1423.18 \"/>\n",
       "<polyline clip-path=\"url(#clip230)\" style=\"stroke:#000000; stroke-linecap:round; stroke-linejoin:round; stroke-width:4; stroke-opacity:1; fill:none\" points=\"724.51,1423.18 724.51,1404.28 \"/>\n",
       "<polyline clip-path=\"url(#clip230)\" style=\"stroke:#000000; stroke-linecap:round; stroke-linejoin:round; stroke-width:4; stroke-opacity:1; fill:none\" points=\"1247.39,1423.18 1247.39,1404.28 \"/>\n",
       "<polyline clip-path=\"url(#clip230)\" style=\"stroke:#000000; stroke-linecap:round; stroke-linejoin:round; stroke-width:4; stroke-opacity:1; fill:none\" points=\"1770.27,1423.18 1770.27,1404.28 \"/>\n",
       "<polyline clip-path=\"url(#clip230)\" style=\"stroke:#000000; stroke-linecap:round; stroke-linejoin:round; stroke-width:4; stroke-opacity:1; fill:none\" points=\"2293.15,1423.18 2293.15,1404.28 \"/>\n",
       "<path clip-path=\"url(#clip230)\" d=\"M714.787 1451.02 L733.144 1451.02 L733.144 1454.96 L719.07 1454.96 L719.07 1463.43 Q720.088 1463.08 721.107 1462.92 Q722.125 1462.73 723.144 1462.73 Q728.931 1462.73 732.31 1465.9 Q735.69 1469.08 735.69 1474.49 Q735.69 1480.07 732.218 1483.17 Q728.746 1486.25 722.426 1486.25 Q720.25 1486.25 717.982 1485.88 Q715.736 1485.51 713.329 1484.77 L713.329 1480.07 Q715.412 1481.2 717.635 1481.76 Q719.857 1482.32 722.334 1482.32 Q726.338 1482.32 728.676 1480.21 Q731.014 1478.1 731.014 1474.49 Q731.014 1470.88 728.676 1468.77 Q726.338 1466.67 722.334 1466.67 Q720.459 1466.67 718.584 1467.08 Q716.732 1467.5 714.787 1468.38 L714.787 1451.02 Z\" fill=\"#000000\" fill-rule=\"nonzero\" fill-opacity=\"1\" /><path clip-path=\"url(#clip230)\" d=\"M1222.08 1481.64 L1229.72 1481.64 L1229.72 1455.28 L1221.41 1456.95 L1221.41 1452.69 L1229.67 1451.02 L1234.34 1451.02 L1234.34 1481.64 L1241.98 1481.64 L1241.98 1485.58 L1222.08 1485.58 L1222.08 1481.64 Z\" fill=\"#000000\" fill-rule=\"nonzero\" fill-opacity=\"1\" /><path clip-path=\"url(#clip230)\" d=\"M1261.43 1454.1 Q1257.82 1454.1 1255.99 1457.66 Q1254.18 1461.2 1254.18 1468.33 Q1254.18 1475.44 1255.99 1479.01 Q1257.82 1482.55 1261.43 1482.55 Q1265.06 1482.55 1266.87 1479.01 Q1268.7 1475.44 1268.7 1468.33 Q1268.7 1461.2 1266.87 1457.66 Q1265.06 1454.1 1261.43 1454.1 M1261.43 1450.39 Q1267.24 1450.39 1270.29 1455 Q1273.37 1459.58 1273.37 1468.33 Q1273.37 1477.06 1270.29 1481.67 Q1267.24 1486.25 1261.43 1486.25 Q1255.62 1486.25 1252.54 1481.67 Q1249.48 1477.06 1249.48 1468.33 Q1249.48 1459.58 1252.54 1455 Q1255.62 1450.39 1261.43 1450.39 Z\" fill=\"#000000\" fill-rule=\"nonzero\" fill-opacity=\"1\" /><path clip-path=\"url(#clip230)\" d=\"M1745.45 1481.64 L1753.09 1481.64 L1753.09 1455.28 L1744.78 1456.95 L1744.78 1452.69 L1753.05 1451.02 L1757.72 1451.02 L1757.72 1481.64 L1765.36 1481.64 L1765.36 1485.58 L1745.45 1485.58 L1745.45 1481.64 Z\" fill=\"#000000\" fill-rule=\"nonzero\" fill-opacity=\"1\" /><path clip-path=\"url(#clip230)\" d=\"M1774.85 1451.02 L1793.21 1451.02 L1793.21 1454.96 L1779.13 1454.96 L1779.13 1463.43 Q1780.15 1463.08 1781.17 1462.92 Q1782.19 1462.73 1783.21 1462.73 Q1789 1462.73 1792.37 1465.9 Q1795.75 1469.08 1795.75 1474.49 Q1795.75 1480.07 1792.28 1483.17 Q1788.81 1486.25 1782.49 1486.25 Q1780.31 1486.25 1778.05 1485.88 Q1775.8 1485.51 1773.39 1484.77 L1773.39 1480.07 Q1775.48 1481.2 1777.7 1481.76 Q1779.92 1482.32 1782.4 1482.32 Q1786.4 1482.32 1788.74 1480.21 Q1791.08 1478.1 1791.08 1474.49 Q1791.08 1470.88 1788.74 1468.77 Q1786.4 1466.67 1782.4 1466.67 Q1780.52 1466.67 1778.65 1467.08 Q1776.8 1467.5 1774.85 1468.38 L1774.85 1451.02 Z\" fill=\"#000000\" fill-rule=\"nonzero\" fill-opacity=\"1\" /><path clip-path=\"url(#clip230)\" d=\"M2271.92 1481.64 L2288.24 1481.64 L2288.24 1485.58 L2266.3 1485.58 L2266.3 1481.64 Q2268.96 1478.89 2273.54 1474.26 Q2278.15 1469.61 2279.33 1468.27 Q2281.57 1465.74 2282.45 1464.01 Q2283.36 1462.25 2283.36 1460.56 Q2283.36 1457.8 2281.41 1456.07 Q2279.49 1454.33 2276.39 1454.33 Q2274.19 1454.33 2271.74 1455.09 Q2269.31 1455.86 2266.53 1457.41 L2266.53 1452.69 Q2269.35 1451.55 2271.81 1450.97 Q2274.26 1450.39 2276.3 1450.39 Q2281.67 1450.39 2284.86 1453.08 Q2288.06 1455.77 2288.06 1460.26 Q2288.06 1462.39 2287.24 1464.31 Q2286.46 1466.2 2284.35 1468.8 Q2283.77 1469.47 2280.67 1472.69 Q2277.57 1475.88 2271.92 1481.64 Z\" fill=\"#000000\" fill-rule=\"nonzero\" fill-opacity=\"1\" /><path clip-path=\"url(#clip230)\" d=\"M2308.05 1454.1 Q2304.44 1454.1 2302.62 1457.66 Q2300.81 1461.2 2300.81 1468.33 Q2300.81 1475.44 2302.62 1479.01 Q2304.44 1482.55 2308.05 1482.55 Q2311.69 1482.55 2313.49 1479.01 Q2315.32 1475.44 2315.32 1468.33 Q2315.32 1461.2 2313.49 1457.66 Q2311.69 1454.1 2308.05 1454.1 M2308.05 1450.39 Q2313.87 1450.39 2316.92 1455 Q2320 1459.58 2320 1468.33 Q2320 1477.06 2316.92 1481.67 Q2313.87 1486.25 2308.05 1486.25 Q2302.24 1486.25 2299.17 1481.67 Q2296.11 1477.06 2296.11 1468.33 Q2296.11 1459.58 2299.17 1455 Q2302.24 1450.39 2308.05 1450.39 Z\" fill=\"#000000\" fill-rule=\"nonzero\" fill-opacity=\"1\" /><path clip-path=\"url(#clip230)\" d=\"M1045.97 1520.52 L1086.17 1520.52 L1086.17 1525.93 L1069.3 1525.93 L1069.3 1568.04 L1062.84 1568.04 L1062.84 1525.93 L1045.97 1525.93 L1045.97 1520.52 Z\" fill=\"#000000\" fill-rule=\"nonzero\" fill-opacity=\"1\" /><path clip-path=\"url(#clip230)\" d=\"M1103.2 1537.87 Q1102.21 1537.3 1101.03 1537.04 Q1099.89 1536.76 1098.49 1536.76 Q1093.52 1536.76 1090.85 1540 Q1088.21 1543.22 1088.21 1549.27 L1088.21 1568.04 L1082.32 1568.04 L1082.32 1532.4 L1088.21 1532.4 L1088.21 1537.93 Q1090.05 1534.69 1093.01 1533.13 Q1095.97 1531.54 1100.21 1531.54 Q1100.81 1531.54 1101.54 1531.63 Q1102.28 1531.7 1103.17 1531.85 L1103.2 1537.87 Z\" fill=\"#000000\" fill-rule=\"nonzero\" fill-opacity=\"1\" /><path clip-path=\"url(#clip230)\" d=\"M1125.54 1550.12 Q1118.45 1550.12 1115.71 1551.75 Q1112.97 1553.37 1112.97 1557.29 Q1112.97 1560.4 1115.01 1562.25 Q1117.08 1564.07 1120.61 1564.07 Q1125.48 1564.07 1128.41 1560.63 Q1131.37 1557.16 1131.37 1551.43 L1131.37 1550.12 L1125.54 1550.12 M1137.22 1547.71 L1137.22 1568.04 L1131.37 1568.04 L1131.37 1562.63 Q1129.36 1565.88 1126.37 1567.44 Q1123.38 1568.97 1119.05 1568.97 Q1113.58 1568.97 1110.33 1565.91 Q1107.11 1562.82 1107.11 1557.67 Q1107.11 1551.65 1111.12 1548.6 Q1115.17 1545.54 1123.16 1545.54 L1131.37 1545.54 L1131.37 1544.97 Q1131.37 1540.93 1128.69 1538.73 Q1126.05 1536.5 1121.25 1536.5 Q1118.19 1536.5 1115.29 1537.23 Q1112.4 1537.97 1109.72 1539.43 L1109.72 1534.02 Q1112.94 1532.78 1115.96 1532.17 Q1118.99 1531.54 1121.85 1531.54 Q1129.59 1531.54 1133.4 1535.55 Q1137.22 1539.56 1137.22 1547.71 Z\" fill=\"#000000\" fill-rule=\"nonzero\" fill-opacity=\"1\" /><path clip-path=\"url(#clip230)\" d=\"M1149.29 1532.4 L1155.14 1532.4 L1155.14 1568.04 L1149.29 1568.04 L1149.29 1532.4 M1149.29 1518.52 L1155.14 1518.52 L1155.14 1525.93 L1149.29 1525.93 L1149.29 1518.52 Z\" fill=\"#000000\" fill-rule=\"nonzero\" fill-opacity=\"1\" /><path clip-path=\"url(#clip230)\" d=\"M1197.03 1546.53 L1197.03 1568.04 L1191.17 1568.04 L1191.17 1546.72 Q1191.17 1541.66 1189.2 1539.14 Q1187.23 1536.63 1183.28 1536.63 Q1178.54 1536.63 1175.8 1539.65 Q1173.06 1542.68 1173.06 1547.9 L1173.06 1568.04 L1167.17 1568.04 L1167.17 1532.4 L1173.06 1532.4 L1173.06 1537.93 Q1175.16 1534.72 1178 1533.13 Q1180.86 1531.54 1184.58 1531.54 Q1190.73 1531.54 1193.88 1535.36 Q1197.03 1539.14 1197.03 1546.53 Z\" fill=\"#000000\" fill-rule=\"nonzero\" fill-opacity=\"1\" /><path clip-path=\"url(#clip230)\" d=\"M1208.71 1532.4 L1214.57 1532.4 L1214.57 1568.04 L1208.71 1568.04 L1208.71 1532.4 M1208.71 1518.52 L1214.57 1518.52 L1214.57 1525.93 L1208.71 1525.93 L1208.71 1518.52 Z\" fill=\"#000000\" fill-rule=\"nonzero\" fill-opacity=\"1\" /><path clip-path=\"url(#clip230)\" d=\"M1256.45 1546.53 L1256.45 1568.04 L1250.6 1568.04 L1250.6 1546.72 Q1250.6 1541.66 1248.62 1539.14 Q1246.65 1536.63 1242.7 1536.63 Q1237.96 1536.63 1235.22 1539.65 Q1232.49 1542.68 1232.49 1547.9 L1232.49 1568.04 L1226.6 1568.04 L1226.6 1532.4 L1232.49 1532.4 L1232.49 1537.93 Q1234.59 1534.72 1237.42 1533.13 Q1240.28 1531.54 1244.01 1531.54 Q1250.15 1531.54 1253.3 1535.36 Q1256.45 1539.14 1256.45 1546.53 Z\" fill=\"#000000\" fill-rule=\"nonzero\" fill-opacity=\"1\" /><path clip-path=\"url(#clip230)\" d=\"M1291.59 1549.81 Q1291.59 1543.44 1288.95 1539.94 Q1286.34 1536.44 1281.6 1536.44 Q1276.89 1536.44 1274.25 1539.94 Q1271.64 1543.44 1271.64 1549.81 Q1271.64 1556.14 1274.25 1559.64 Q1276.89 1563.14 1281.6 1563.14 Q1286.34 1563.14 1288.95 1559.64 Q1291.59 1556.14 1291.59 1549.81 M1297.45 1563.62 Q1297.45 1572.72 1293.41 1577.15 Q1289.36 1581.6 1281.03 1581.6 Q1277.94 1581.6 1275.2 1581.13 Q1272.46 1580.68 1269.89 1579.72 L1269.89 1574.03 Q1272.46 1575.43 1274.98 1576.1 Q1277.49 1576.76 1280.1 1576.76 Q1285.86 1576.76 1288.73 1573.74 Q1291.59 1570.75 1291.59 1564.67 L1291.59 1561.77 Q1289.78 1564.92 1286.95 1566.48 Q1284.11 1568.04 1280.17 1568.04 Q1273.61 1568.04 1269.6 1563.05 Q1265.59 1558.05 1265.59 1549.81 Q1265.59 1541.53 1269.6 1536.53 Q1273.61 1531.54 1280.17 1531.54 Q1284.11 1531.54 1286.95 1533.1 Q1289.78 1534.66 1291.59 1537.81 L1291.59 1532.4 L1297.45 1532.4 L1297.45 1563.62 Z\" fill=\"#000000\" fill-rule=\"nonzero\" fill-opacity=\"1\" /><path clip-path=\"url(#clip230)\" d=\"M1360.72 1548.76 L1360.72 1551.62 L1333.8 1551.62 Q1334.18 1557.67 1337.43 1560.85 Q1340.7 1564 1346.53 1564 Q1349.9 1564 1353.05 1563.17 Q1356.24 1562.35 1359.36 1560.69 L1359.36 1566.23 Q1356.2 1567.57 1352.89 1568.27 Q1349.58 1568.97 1346.18 1568.97 Q1337.65 1568.97 1332.65 1564 Q1327.69 1559.04 1327.69 1550.57 Q1327.69 1541.82 1332.4 1536.69 Q1337.14 1531.54 1345.16 1531.54 Q1352.35 1531.54 1356.52 1536.18 Q1360.72 1540.8 1360.72 1548.76 M1354.87 1547.04 Q1354.8 1542.23 1352.16 1539.37 Q1349.55 1536.5 1345.22 1536.5 Q1340.32 1536.5 1337.36 1539.27 Q1334.43 1542.04 1333.99 1547.07 L1354.87 1547.04 Z\" fill=\"#000000\" fill-rule=\"nonzero\" fill-opacity=\"1\" /><path clip-path=\"url(#clip230)\" d=\"M1376 1562.7 L1376 1581.6 L1370.11 1581.6 L1370.11 1532.4 L1376 1532.4 L1376 1537.81 Q1377.85 1534.62 1380.65 1533.1 Q1383.48 1531.54 1387.4 1531.54 Q1393.89 1531.54 1397.93 1536.69 Q1402.01 1541.85 1402.01 1550.25 Q1402.01 1558.65 1397.93 1563.81 Q1393.89 1568.97 1387.4 1568.97 Q1383.48 1568.97 1380.65 1567.44 Q1377.85 1565.88 1376 1562.7 M1395.93 1550.25 Q1395.93 1543.79 1393.25 1540.13 Q1390.61 1536.44 1385.96 1536.44 Q1381.32 1536.44 1378.64 1540.13 Q1376 1543.79 1376 1550.25 Q1376 1556.71 1378.64 1560.4 Q1381.32 1564.07 1385.96 1564.07 Q1390.61 1564.07 1393.25 1560.4 Q1395.93 1556.71 1395.93 1550.25 Z\" fill=\"#000000\" fill-rule=\"nonzero\" fill-opacity=\"1\" /><path clip-path=\"url(#clip230)\" d=\"M1425.53 1536.5 Q1420.82 1536.5 1418.08 1540.19 Q1415.34 1543.85 1415.34 1550.25 Q1415.34 1556.65 1418.05 1560.34 Q1420.78 1564 1425.53 1564 Q1430.21 1564 1432.94 1560.31 Q1435.68 1556.62 1435.68 1550.25 Q1435.68 1543.92 1432.94 1540.23 Q1430.21 1536.5 1425.53 1536.5 M1425.53 1531.54 Q1433.17 1531.54 1437.53 1536.5 Q1441.89 1541.47 1441.89 1550.25 Q1441.89 1559 1437.53 1564 Q1433.17 1568.97 1425.53 1568.97 Q1417.86 1568.97 1413.5 1564 Q1409.17 1559 1409.17 1550.25 Q1409.17 1541.47 1413.5 1536.5 Q1417.86 1531.54 1425.53 1531.54 Z\" fill=\"#000000\" fill-rule=\"nonzero\" fill-opacity=\"1\" /><path clip-path=\"url(#clip230)\" d=\"M1477.25 1533.76 L1477.25 1539.24 Q1474.77 1537.87 1472.25 1537.2 Q1469.77 1536.5 1467.22 1536.5 Q1461.52 1536.5 1458.37 1540.13 Q1455.22 1543.73 1455.22 1550.25 Q1455.22 1556.78 1458.37 1560.4 Q1461.52 1564 1467.22 1564 Q1469.77 1564 1472.25 1563.33 Q1474.77 1562.63 1477.25 1561.26 L1477.25 1566.68 Q1474.8 1567.82 1472.16 1568.39 Q1469.55 1568.97 1466.59 1568.97 Q1458.53 1568.97 1453.79 1563.91 Q1449.05 1558.85 1449.05 1550.25 Q1449.05 1541.53 1453.82 1536.53 Q1458.63 1531.54 1466.97 1531.54 Q1469.67 1531.54 1472.25 1532.11 Q1474.83 1532.65 1477.25 1533.76 Z\" fill=\"#000000\" fill-rule=\"nonzero\" fill-opacity=\"1\" /><path clip-path=\"url(#clip230)\" d=\"M1517.07 1546.53 L1517.07 1568.04 L1511.21 1568.04 L1511.21 1546.72 Q1511.21 1541.66 1509.24 1539.14 Q1507.26 1536.63 1503.32 1536.63 Q1498.57 1536.63 1495.84 1539.65 Q1493.1 1542.68 1493.1 1547.9 L1493.1 1568.04 L1487.21 1568.04 L1487.21 1518.52 L1493.1 1518.52 L1493.1 1537.93 Q1495.2 1534.72 1498.03 1533.13 Q1500.9 1531.54 1504.62 1531.54 Q1510.76 1531.54 1513.91 1535.36 Q1517.07 1539.14 1517.07 1546.53 Z\" fill=\"#000000\" fill-rule=\"nonzero\" fill-opacity=\"1\" /><path clip-path=\"url(#clip230)\" d=\"M1551.47 1533.45 L1551.47 1538.98 Q1548.99 1537.71 1546.32 1537.07 Q1543.64 1536.44 1540.78 1536.44 Q1536.42 1536.44 1534.22 1537.77 Q1532.06 1539.11 1532.06 1541.79 Q1532.06 1543.82 1533.62 1545 Q1535.18 1546.15 1539.89 1547.2 L1541.89 1547.64 Q1548.13 1548.98 1550.74 1551.43 Q1553.38 1553.85 1553.38 1558.21 Q1553.38 1563.17 1549.44 1566.07 Q1545.52 1568.97 1538.65 1568.97 Q1535.78 1568.97 1532.66 1568.39 Q1529.57 1567.85 1526.14 1566.74 L1526.14 1560.69 Q1529.38 1562.38 1532.53 1563.24 Q1535.69 1564.07 1538.77 1564.07 Q1542.91 1564.07 1545.14 1562.66 Q1547.37 1561.23 1547.37 1558.65 Q1547.37 1556.27 1545.74 1554.99 Q1544.15 1553.72 1538.71 1552.54 L1536.67 1552.07 Q1531.23 1550.92 1528.81 1548.56 Q1526.39 1546.18 1526.39 1542.04 Q1526.39 1537.01 1529.96 1534.27 Q1533.52 1531.54 1540.08 1531.54 Q1543.32 1531.54 1546.19 1532.01 Q1549.05 1532.49 1551.47 1533.45 Z\" fill=\"#000000\" fill-rule=\"nonzero\" fill-opacity=\"1\" /><polyline clip-path=\"url(#clip232)\" style=\"stroke:#000000; stroke-linecap:round; stroke-linejoin:round; stroke-width:2; stroke-opacity:0.1; fill:none\" points=\"246.598,1143.93 2352.76,1143.93 \"/>\n",
       "<polyline clip-path=\"url(#clip232)\" style=\"stroke:#000000; stroke-linecap:round; stroke-linejoin:round; stroke-width:2; stroke-opacity:0.1; fill:none\" points=\"246.598,856.28 2352.76,856.28 \"/>\n",
       "<polyline clip-path=\"url(#clip232)\" style=\"stroke:#000000; stroke-linecap:round; stroke-linejoin:round; stroke-width:2; stroke-opacity:0.1; fill:none\" points=\"246.598,568.626 2352.76,568.626 \"/>\n",
       "<polyline clip-path=\"url(#clip232)\" style=\"stroke:#000000; stroke-linecap:round; stroke-linejoin:round; stroke-width:2; stroke-opacity:0.1; fill:none\" points=\"246.598,280.972 2352.76,280.972 \"/>\n",
       "<polyline clip-path=\"url(#clip230)\" style=\"stroke:#000000; stroke-linecap:round; stroke-linejoin:round; stroke-width:4; stroke-opacity:1; fill:none\" points=\"246.598,1423.18 246.598,47.2441 \"/>\n",
       "<polyline clip-path=\"url(#clip230)\" style=\"stroke:#000000; stroke-linecap:round; stroke-linejoin:round; stroke-width:4; stroke-opacity:1; fill:none\" points=\"246.598,1143.93 265.495,1143.93 \"/>\n",
       "<polyline clip-path=\"url(#clip230)\" style=\"stroke:#000000; stroke-linecap:round; stroke-linejoin:round; stroke-width:4; stroke-opacity:1; fill:none\" points=\"246.598,856.28 265.495,856.28 \"/>\n",
       "<polyline clip-path=\"url(#clip230)\" style=\"stroke:#000000; stroke-linecap:round; stroke-linejoin:round; stroke-width:4; stroke-opacity:1; fill:none\" points=\"246.598,568.626 265.495,568.626 \"/>\n",
       "<polyline clip-path=\"url(#clip230)\" style=\"stroke:#000000; stroke-linecap:round; stroke-linejoin:round; stroke-width:4; stroke-opacity:1; fill:none\" points=\"246.598,280.972 265.495,280.972 \"/>\n",
       "<path clip-path=\"url(#clip230)\" d=\"M62.9365 1129.73 Q59.3254 1129.73 57.4967 1133.3 Q55.6912 1136.84 55.6912 1143.97 Q55.6912 1151.08 57.4967 1154.64 Q59.3254 1158.18 62.9365 1158.18 Q66.5707 1158.18 68.3763 1154.64 Q70.205 1151.08 70.205 1143.97 Q70.205 1136.84 68.3763 1133.3 Q66.5707 1129.73 62.9365 1129.73 M62.9365 1126.03 Q68.7467 1126.03 71.8022 1130.64 Q74.8809 1135.22 74.8809 1143.97 Q74.8809 1152.7 71.8022 1157.3 Q68.7467 1161.89 62.9365 1161.89 Q57.1264 1161.89 54.0477 1157.3 Q50.9921 1152.7 50.9921 1143.97 Q50.9921 1135.22 54.0477 1130.64 Q57.1264 1126.03 62.9365 1126.03 Z\" fill=\"#000000\" fill-rule=\"nonzero\" fill-opacity=\"1\" /><path clip-path=\"url(#clip230)\" d=\"M83.0984 1155.33 L87.9827 1155.33 L87.9827 1161.21 L83.0984 1161.21 L83.0984 1155.33 Z\" fill=\"#000000\" fill-rule=\"nonzero\" fill-opacity=\"1\" /><path clip-path=\"url(#clip230)\" d=\"M108.168 1144.8 Q104.834 1144.8 102.913 1146.58 Q101.015 1148.37 101.015 1151.49 Q101.015 1154.62 102.913 1156.4 Q104.834 1158.18 108.168 1158.18 Q111.501 1158.18 113.422 1156.4 Q115.344 1154.59 115.344 1151.49 Q115.344 1148.37 113.422 1146.58 Q111.524 1144.8 108.168 1144.8 M103.492 1142.81 Q100.483 1142.07 98.7928 1140.01 Q97.1261 1137.95 97.1261 1134.99 Q97.1261 1130.84 100.066 1128.44 Q103.029 1126.03 108.168 1126.03 Q113.33 1126.03 116.27 1128.44 Q119.209 1130.84 119.209 1134.99 Q119.209 1137.95 117.52 1140.01 Q115.853 1142.07 112.867 1142.81 Q116.246 1143.6 118.121 1145.89 Q120.02 1148.18 120.02 1151.49 Q120.02 1156.51 116.941 1159.2 Q113.885 1161.89 108.168 1161.89 Q102.45 1161.89 99.3715 1159.2 Q96.316 1156.51 96.316 1151.49 Q96.316 1148.18 98.2141 1145.89 Q100.112 1143.6 103.492 1142.81 M101.779 1135.43 Q101.779 1138.11 103.446 1139.62 Q105.135 1141.12 108.168 1141.12 Q111.177 1141.12 112.867 1139.62 Q114.58 1138.11 114.58 1135.43 Q114.58 1132.74 112.867 1131.24 Q111.177 1129.73 108.168 1129.73 Q105.135 1129.73 103.446 1131.24 Q101.779 1132.74 101.779 1135.43 Z\" fill=\"#000000\" fill-rule=\"nonzero\" fill-opacity=\"1\" /><path clip-path=\"url(#clip230)\" d=\"M142.496 1142.58 Q145.853 1143.3 147.728 1145.57 Q149.626 1147.83 149.626 1151.17 Q149.626 1156.28 146.107 1159.08 Q142.589 1161.89 136.107 1161.89 Q133.931 1161.89 131.617 1161.45 Q129.325 1161.03 126.871 1160.17 L126.871 1155.66 Q128.816 1156.79 131.131 1157.37 Q133.445 1157.95 135.969 1157.95 Q140.367 1157.95 142.658 1156.21 Q144.973 1154.48 144.973 1151.17 Q144.973 1148.11 142.82 1146.4 Q140.691 1144.66 136.871 1144.66 L132.844 1144.66 L132.844 1140.82 L137.056 1140.82 Q140.506 1140.82 142.334 1139.45 Q144.163 1138.07 144.163 1135.47 Q144.163 1132.81 142.265 1131.4 Q140.39 1129.96 136.871 1129.96 Q134.95 1129.96 132.751 1130.38 Q130.552 1130.8 127.913 1131.68 L127.913 1127.51 Q130.575 1126.77 132.89 1126.4 Q135.228 1126.03 137.288 1126.03 Q142.612 1126.03 145.714 1128.46 Q148.816 1130.87 148.816 1134.99 Q148.816 1137.86 147.172 1139.85 Q145.529 1141.82 142.496 1142.58 Z\" fill=\"#000000\" fill-rule=\"nonzero\" fill-opacity=\"1\" /><path clip-path=\"url(#clip230)\" d=\"M157.311 1126.65 L179.533 1126.65 L179.533 1128.64 L166.987 1161.21 L162.103 1161.21 L173.908 1130.59 L157.311 1130.59 L157.311 1126.65 Z\" fill=\"#000000\" fill-rule=\"nonzero\" fill-opacity=\"1\" /><path clip-path=\"url(#clip230)\" d=\"M198.653 1129.73 Q195.042 1129.73 193.214 1133.3 Q191.408 1136.84 191.408 1143.97 Q191.408 1151.08 193.214 1154.64 Q195.042 1158.18 198.653 1158.18 Q202.288 1158.18 204.093 1154.64 Q205.922 1151.08 205.922 1143.97 Q205.922 1136.84 204.093 1133.3 Q202.288 1129.73 198.653 1129.73 M198.653 1126.03 Q204.464 1126.03 207.519 1130.64 Q210.598 1135.22 210.598 1143.97 Q210.598 1152.7 207.519 1157.3 Q204.464 1161.89 198.653 1161.89 Q192.843 1161.89 189.765 1157.3 Q186.709 1152.7 186.709 1143.97 Q186.709 1135.22 189.765 1130.64 Q192.843 1126.03 198.653 1126.03 Z\" fill=\"#000000\" fill-rule=\"nonzero\" fill-opacity=\"1\" /><path clip-path=\"url(#clip230)\" d=\"M63.9319 842.079 Q60.3208 842.079 58.4921 845.643 Q56.6865 849.185 56.6865 856.315 Q56.6865 863.421 58.4921 866.986 Q60.3208 870.527 63.9319 870.527 Q67.5661 870.527 69.3717 866.986 Q71.2004 863.421 71.2004 856.315 Q71.2004 849.185 69.3717 845.643 Q67.5661 842.079 63.9319 842.079 M63.9319 838.375 Q69.742 838.375 72.7976 842.981 Q75.8763 847.565 75.8763 856.315 Q75.8763 865.041 72.7976 869.648 Q69.742 874.231 63.9319 874.231 Q58.1217 874.231 55.043 869.648 Q51.9875 865.041 51.9875 856.315 Q51.9875 847.565 55.043 842.981 Q58.1217 838.375 63.9319 838.375 Z\" fill=\"#000000\" fill-rule=\"nonzero\" fill-opacity=\"1\" /><path clip-path=\"url(#clip230)\" d=\"M84.0938 867.68 L88.978 867.68 L88.978 873.56 L84.0938 873.56 L84.0938 867.68 Z\" fill=\"#000000\" fill-rule=\"nonzero\" fill-opacity=\"1\" /><path clip-path=\"url(#clip230)\" d=\"M109.163 857.148 Q105.83 857.148 103.909 858.93 Q102.01 860.713 102.01 863.838 Q102.01 866.963 103.909 868.745 Q105.83 870.527 109.163 870.527 Q112.496 870.527 114.418 868.745 Q116.339 866.94 116.339 863.838 Q116.339 860.713 114.418 858.93 Q112.52 857.148 109.163 857.148 M104.487 855.157 Q101.478 854.416 99.7882 852.356 Q98.1215 850.296 98.1215 847.333 Q98.1215 843.19 101.061 840.782 Q104.024 838.375 109.163 838.375 Q114.325 838.375 117.265 840.782 Q120.205 843.19 120.205 847.333 Q120.205 850.296 118.515 852.356 Q116.848 854.416 113.862 855.157 Q117.242 855.944 119.117 858.236 Q121.015 860.528 121.015 863.838 Q121.015 868.861 117.936 871.546 Q114.881 874.231 109.163 874.231 Q103.446 874.231 100.367 871.546 Q97.3113 868.861 97.3113 863.838 Q97.3113 860.528 99.2095 858.236 Q101.108 855.944 104.487 855.157 M102.774 847.773 Q102.774 850.458 104.441 851.963 Q106.131 853.467 109.163 853.467 Q112.172 853.467 113.862 851.963 Q115.575 850.458 115.575 847.773 Q115.575 845.088 113.862 843.583 Q112.172 842.079 109.163 842.079 Q106.131 842.079 104.441 843.583 Q102.774 845.088 102.774 847.773 Z\" fill=\"#000000\" fill-rule=\"nonzero\" fill-opacity=\"1\" /><path clip-path=\"url(#clip230)\" d=\"M143.492 854.926 Q146.848 855.643 148.723 857.912 Q150.621 860.18 150.621 863.514 Q150.621 868.629 147.103 871.43 Q143.584 874.231 137.103 874.231 Q134.927 874.231 132.612 873.791 Q130.32 873.375 127.867 872.518 L127.867 868.004 Q129.811 869.139 132.126 869.717 Q134.441 870.296 136.964 870.296 Q141.362 870.296 143.654 868.56 Q145.968 866.824 145.968 863.514 Q145.968 860.458 143.816 858.745 Q141.686 857.009 137.867 857.009 L133.839 857.009 L133.839 853.166 L138.052 853.166 Q141.501 853.166 143.33 851.801 Q145.158 850.412 145.158 847.819 Q145.158 845.157 143.26 843.745 Q141.385 842.31 137.867 842.31 Q135.945 842.31 133.746 842.727 Q131.547 843.143 128.908 844.023 L128.908 839.856 Q131.57 839.116 133.885 838.745 Q136.223 838.375 138.283 838.375 Q143.607 838.375 146.709 840.805 Q149.811 843.213 149.811 847.333 Q149.811 850.204 148.168 852.194 Q146.524 854.162 143.492 854.926 Z\" fill=\"#000000\" fill-rule=\"nonzero\" fill-opacity=\"1\" /><path clip-path=\"url(#clip230)\" d=\"M158.306 839 L180.528 839 L180.528 840.991 L167.982 873.56 L163.098 873.56 L174.903 842.935 L158.306 842.935 L158.306 839 Z\" fill=\"#000000\" fill-rule=\"nonzero\" fill-opacity=\"1\" /><path clip-path=\"url(#clip230)\" d=\"M189.695 839 L208.051 839 L208.051 842.935 L193.977 842.935 L193.977 851.407 Q194.996 851.06 196.014 850.898 Q197.033 850.713 198.052 850.713 Q203.839 850.713 207.218 853.884 Q210.598 857.055 210.598 862.472 Q210.598 868.051 207.126 871.152 Q203.653 874.231 197.334 874.231 Q195.158 874.231 192.89 873.861 Q190.644 873.49 188.237 872.75 L188.237 868.051 Q190.32 869.185 192.542 869.74 Q194.765 870.296 197.241 870.296 Q201.246 870.296 203.584 868.19 Q205.922 866.083 205.922 862.472 Q205.922 858.861 203.584 856.754 Q201.246 854.648 197.241 854.648 Q195.366 854.648 193.491 855.065 Q191.64 855.481 189.695 856.361 L189.695 839 Z\" fill=\"#000000\" fill-rule=\"nonzero\" fill-opacity=\"1\" /><path clip-path=\"url(#clip230)\" d=\"M62.9365 554.425 Q59.3254 554.425 57.4967 557.989 Q55.6912 561.531 55.6912 568.661 Q55.6912 575.767 57.4967 579.332 Q59.3254 582.873 62.9365 582.873 Q66.5707 582.873 68.3763 579.332 Q70.205 575.767 70.205 568.661 Q70.205 561.531 68.3763 557.989 Q66.5707 554.425 62.9365 554.425 M62.9365 550.721 Q68.7467 550.721 71.8022 555.327 Q74.8809 559.911 74.8809 568.661 Q74.8809 577.387 71.8022 581.994 Q68.7467 586.577 62.9365 586.577 Q57.1264 586.577 54.0477 581.994 Q50.9921 577.387 50.9921 568.661 Q50.9921 559.911 54.0477 555.327 Q57.1264 550.721 62.9365 550.721 Z\" fill=\"#000000\" fill-rule=\"nonzero\" fill-opacity=\"1\" /><path clip-path=\"url(#clip230)\" d=\"M83.0984 580.026 L87.9827 580.026 L87.9827 585.906 L83.0984 585.906 L83.0984 580.026 Z\" fill=\"#000000\" fill-rule=\"nonzero\" fill-opacity=\"1\" /><path clip-path=\"url(#clip230)\" d=\"M108.168 569.494 Q104.834 569.494 102.913 571.276 Q101.015 573.059 101.015 576.184 Q101.015 579.309 102.913 581.091 Q104.834 582.873 108.168 582.873 Q111.501 582.873 113.422 581.091 Q115.344 579.286 115.344 576.184 Q115.344 573.059 113.422 571.276 Q111.524 569.494 108.168 569.494 M103.492 567.503 Q100.483 566.762 98.7928 564.702 Q97.1261 562.642 97.1261 559.679 Q97.1261 555.536 100.066 553.128 Q103.029 550.721 108.168 550.721 Q113.33 550.721 116.27 553.128 Q119.209 555.536 119.209 559.679 Q119.209 562.642 117.52 564.702 Q115.853 566.762 112.867 567.503 Q116.246 568.29 118.121 570.582 Q120.02 572.874 120.02 576.184 Q120.02 581.207 116.941 583.892 Q113.885 586.577 108.168 586.577 Q102.45 586.577 99.3715 583.892 Q96.316 581.207 96.316 576.184 Q96.316 572.874 98.2141 570.582 Q100.112 568.29 103.492 567.503 M101.779 560.119 Q101.779 562.804 103.446 564.309 Q105.135 565.813 108.168 565.813 Q111.177 565.813 112.867 564.309 Q114.58 562.804 114.58 560.119 Q114.58 557.434 112.867 555.929 Q111.177 554.425 108.168 554.425 Q105.135 554.425 103.446 555.929 Q101.779 557.434 101.779 560.119 Z\" fill=\"#000000\" fill-rule=\"nonzero\" fill-opacity=\"1\" /><path clip-path=\"url(#clip230)\" d=\"M142.496 567.272 Q145.853 567.989 147.728 570.258 Q149.626 572.526 149.626 575.86 Q149.626 580.975 146.107 583.776 Q142.589 586.577 136.107 586.577 Q133.931 586.577 131.617 586.137 Q129.325 585.721 126.871 584.864 L126.871 580.35 Q128.816 581.485 131.131 582.063 Q133.445 582.642 135.969 582.642 Q140.367 582.642 142.658 580.906 Q144.973 579.17 144.973 575.86 Q144.973 572.804 142.82 571.091 Q140.691 569.355 136.871 569.355 L132.844 569.355 L132.844 565.512 L137.056 565.512 Q140.506 565.512 142.334 564.147 Q144.163 562.758 144.163 560.165 Q144.163 557.503 142.265 556.091 Q140.39 554.656 136.871 554.656 Q134.95 554.656 132.751 555.073 Q130.552 555.489 127.913 556.369 L127.913 552.202 Q130.575 551.462 132.89 551.091 Q135.228 550.721 137.288 550.721 Q142.612 550.721 145.714 553.151 Q148.816 555.559 148.816 559.679 Q148.816 562.55 147.172 564.54 Q145.529 566.508 142.496 567.272 Z\" fill=\"#000000\" fill-rule=\"nonzero\" fill-opacity=\"1\" /><path clip-path=\"url(#clip230)\" d=\"M168.491 569.494 Q165.158 569.494 163.237 571.276 Q161.339 573.059 161.339 576.184 Q161.339 579.309 163.237 581.091 Q165.158 582.873 168.491 582.873 Q171.825 582.873 173.746 581.091 Q175.667 579.286 175.667 576.184 Q175.667 573.059 173.746 571.276 Q171.848 569.494 168.491 569.494 M163.816 567.503 Q160.806 566.762 159.117 564.702 Q157.45 562.642 157.45 559.679 Q157.45 555.536 160.39 553.128 Q163.353 550.721 168.491 550.721 Q173.654 550.721 176.593 553.128 Q179.533 555.536 179.533 559.679 Q179.533 562.642 177.843 564.702 Q176.177 566.762 173.191 567.503 Q176.57 568.29 178.445 570.582 Q180.343 572.874 180.343 576.184 Q180.343 581.207 177.265 583.892 Q174.209 586.577 168.491 586.577 Q162.774 586.577 159.695 583.892 Q156.64 581.207 156.64 576.184 Q156.64 572.874 158.538 570.582 Q160.436 568.29 163.816 567.503 M162.103 560.119 Q162.103 562.804 163.769 564.309 Q165.459 565.813 168.491 565.813 Q171.501 565.813 173.191 564.309 Q174.903 562.804 174.903 560.119 Q174.903 557.434 173.191 555.929 Q171.501 554.425 168.491 554.425 Q165.459 554.425 163.769 555.929 Q162.103 557.434 162.103 560.119 Z\" fill=\"#000000\" fill-rule=\"nonzero\" fill-opacity=\"1\" /><path clip-path=\"url(#clip230)\" d=\"M198.653 554.425 Q195.042 554.425 193.214 557.989 Q191.408 561.531 191.408 568.661 Q191.408 575.767 193.214 579.332 Q195.042 582.873 198.653 582.873 Q202.288 582.873 204.093 579.332 Q205.922 575.767 205.922 568.661 Q205.922 561.531 204.093 557.989 Q202.288 554.425 198.653 554.425 M198.653 550.721 Q204.464 550.721 207.519 555.327 Q210.598 559.911 210.598 568.661 Q210.598 577.387 207.519 581.994 Q204.464 586.577 198.653 586.577 Q192.843 586.577 189.765 581.994 Q186.709 577.387 186.709 568.661 Q186.709 559.911 189.765 555.327 Q192.843 550.721 198.653 550.721 Z\" fill=\"#000000\" fill-rule=\"nonzero\" fill-opacity=\"1\" /><path clip-path=\"url(#clip230)\" d=\"M63.9319 266.771 Q60.3208 266.771 58.4921 270.335 Q56.6865 273.877 56.6865 281.007 Q56.6865 288.113 58.4921 291.678 Q60.3208 295.219 63.9319 295.219 Q67.5661 295.219 69.3717 291.678 Q71.2004 288.113 71.2004 281.007 Q71.2004 273.877 69.3717 270.335 Q67.5661 266.771 63.9319 266.771 M63.9319 263.067 Q69.742 263.067 72.7976 267.673 Q75.8763 272.257 75.8763 281.007 Q75.8763 289.733 72.7976 294.34 Q69.742 298.923 63.9319 298.923 Q58.1217 298.923 55.043 294.34 Q51.9875 289.733 51.9875 281.007 Q51.9875 272.257 55.043 267.673 Q58.1217 263.067 63.9319 263.067 Z\" fill=\"#000000\" fill-rule=\"nonzero\" fill-opacity=\"1\" /><path clip-path=\"url(#clip230)\" d=\"M84.0938 292.372 L88.978 292.372 L88.978 298.252 L84.0938 298.252 L84.0938 292.372 Z\" fill=\"#000000\" fill-rule=\"nonzero\" fill-opacity=\"1\" /><path clip-path=\"url(#clip230)\" d=\"M109.163 281.84 Q105.83 281.84 103.909 283.622 Q102.01 285.405 102.01 288.53 Q102.01 291.655 103.909 293.437 Q105.83 295.219 109.163 295.219 Q112.496 295.219 114.418 293.437 Q116.339 291.632 116.339 288.53 Q116.339 285.405 114.418 283.622 Q112.52 281.84 109.163 281.84 M104.487 279.849 Q101.478 279.108 99.7882 277.048 Q98.1215 274.988 98.1215 272.025 Q98.1215 267.882 101.061 265.474 Q104.024 263.067 109.163 263.067 Q114.325 263.067 117.265 265.474 Q120.205 267.882 120.205 272.025 Q120.205 274.988 118.515 277.048 Q116.848 279.108 113.862 279.849 Q117.242 280.636 119.117 282.928 Q121.015 285.22 121.015 288.53 Q121.015 293.553 117.936 296.238 Q114.881 298.923 109.163 298.923 Q103.446 298.923 100.367 296.238 Q97.3113 293.553 97.3113 288.53 Q97.3113 285.22 99.2095 282.928 Q101.108 280.636 104.487 279.849 M102.774 272.465 Q102.774 275.15 104.441 276.655 Q106.131 278.159 109.163 278.159 Q112.172 278.159 113.862 276.655 Q115.575 275.15 115.575 272.465 Q115.575 269.78 113.862 268.275 Q112.172 266.771 109.163 266.771 Q106.131 266.771 104.441 268.275 Q102.774 269.78 102.774 272.465 Z\" fill=\"#000000\" fill-rule=\"nonzero\" fill-opacity=\"1\" /><path clip-path=\"url(#clip230)\" d=\"M143.492 279.618 Q146.848 280.335 148.723 282.604 Q150.621 284.872 150.621 288.206 Q150.621 293.321 147.103 296.122 Q143.584 298.923 137.103 298.923 Q134.927 298.923 132.612 298.483 Q130.32 298.067 127.867 297.21 L127.867 292.696 Q129.811 293.831 132.126 294.409 Q134.441 294.988 136.964 294.988 Q141.362 294.988 143.654 293.252 Q145.968 291.516 145.968 288.206 Q145.968 285.15 143.816 283.437 Q141.686 281.701 137.867 281.701 L133.839 281.701 L133.839 277.858 L138.052 277.858 Q141.501 277.858 143.33 276.493 Q145.158 275.104 145.158 272.511 Q145.158 269.849 143.26 268.437 Q141.385 267.002 137.867 267.002 Q135.945 267.002 133.746 267.419 Q131.547 267.835 128.908 268.715 L128.908 264.548 Q131.57 263.808 133.885 263.437 Q136.223 263.067 138.283 263.067 Q143.607 263.067 146.709 265.497 Q149.811 267.905 149.811 272.025 Q149.811 274.896 148.168 276.886 Q146.524 278.854 143.492 279.618 Z\" fill=\"#000000\" fill-rule=\"nonzero\" fill-opacity=\"1\" /><path clip-path=\"url(#clip230)\" d=\"M169.487 281.84 Q166.154 281.84 164.232 283.622 Q162.334 285.405 162.334 288.53 Q162.334 291.655 164.232 293.437 Q166.154 295.219 169.487 295.219 Q172.82 295.219 174.741 293.437 Q176.663 291.632 176.663 288.53 Q176.663 285.405 174.741 283.622 Q172.843 281.84 169.487 281.84 M164.811 279.849 Q161.802 279.108 160.112 277.048 Q158.445 274.988 158.445 272.025 Q158.445 267.882 161.385 265.474 Q164.348 263.067 169.487 263.067 Q174.649 263.067 177.589 265.474 Q180.528 267.882 180.528 272.025 Q180.528 274.988 178.839 277.048 Q177.172 279.108 174.186 279.849 Q177.566 280.636 179.441 282.928 Q181.339 285.22 181.339 288.53 Q181.339 293.553 178.26 296.238 Q175.204 298.923 169.487 298.923 Q163.769 298.923 160.691 296.238 Q157.635 293.553 157.635 288.53 Q157.635 285.22 159.533 282.928 Q161.431 280.636 164.811 279.849 M163.098 272.465 Q163.098 275.15 164.765 276.655 Q166.454 278.159 169.487 278.159 Q172.496 278.159 174.186 276.655 Q175.899 275.15 175.899 272.465 Q175.899 269.78 174.186 268.275 Q172.496 266.771 169.487 266.771 Q166.454 266.771 164.765 268.275 Q163.098 269.78 163.098 272.465 Z\" fill=\"#000000\" fill-rule=\"nonzero\" fill-opacity=\"1\" /><path clip-path=\"url(#clip230)\" d=\"M189.695 263.692 L208.051 263.692 L208.051 267.627 L193.977 267.627 L193.977 276.099 Q194.996 275.752 196.014 275.59 Q197.033 275.405 198.052 275.405 Q203.839 275.405 207.218 278.576 Q210.598 281.747 210.598 287.164 Q210.598 292.743 207.126 295.844 Q203.653 298.923 197.334 298.923 Q195.158 298.923 192.89 298.553 Q190.644 298.182 188.237 297.442 L188.237 292.743 Q190.32 293.877 192.542 294.432 Q194.765 294.988 197.241 294.988 Q201.246 294.988 203.584 292.882 Q205.922 290.775 205.922 287.164 Q205.922 283.553 203.584 281.446 Q201.246 279.34 197.241 279.34 Q195.366 279.34 193.491 279.757 Q191.64 280.173 189.695 281.053 L189.695 263.692 Z\" fill=\"#000000\" fill-rule=\"nonzero\" fill-opacity=\"1\" /><polyline clip-path=\"url(#clip232)\" style=\"stroke:#009af9; stroke-linecap:round; stroke-linejoin:round; stroke-width:4; stroke-opacity:1; fill:none\" points=\"306.206,86.1857 410.782,1001.34 515.358,1102.64 619.934,1159.43 724.51,1205.1 829.085,1247.83 933.661,1282.81 1038.24,1290.86 1142.81,1299.51 1247.39,1311.4 1351.96,1356.19 1456.54,1332.49 1561.12,1339.97 1665.69,1348.78 1770.27,1353.03 1874.84,1369.39 1979.42,1384 2084,1360.34 2188.57,1379.78 2293.15,1384.24 \"/>\n",
       "<polyline clip-path=\"url(#clip232)\" style=\"stroke:#e26f46; stroke-linecap:round; stroke-linejoin:round; stroke-width:4; stroke-opacity:1; fill:none\" points=\"306.206,86.1857 410.782,1001.34 515.358,1102.64 619.934,1159.43 724.51,1205.1 829.085,1247.83 933.661,1282.81 1038.24,1290.86 1142.81,1299.51 1247.39,1311.4 1351.96,1356.19 1456.54,1332.49 1561.12,1339.97 1665.69,1348.78 1770.27,1353.03 1874.84,1369.39 1979.42,1384 2084,1360.34 2188.57,1379.78 2293.15,1384.24 \"/>\n",
       "<path clip-path=\"url(#clip230)\" d=\"M2019.5 248.629 L2282.55 248.629 L2282.55 93.1086 L2019.5 93.1086  Z\" fill=\"#ffffff\" fill-rule=\"evenodd\" fill-opacity=\"1\"/>\n",
       "<polyline clip-path=\"url(#clip230)\" style=\"stroke:#000000; stroke-linecap:round; stroke-linejoin:round; stroke-width:4; stroke-opacity:1; fill:none\" points=\"2019.5,248.629 2282.55,248.629 2282.55,93.1086 2019.5,93.1086 2019.5,248.629 \"/>\n",
       "<polyline clip-path=\"url(#clip230)\" style=\"stroke:#009af9; stroke-linecap:round; stroke-linejoin:round; stroke-width:4; stroke-opacity:1; fill:none\" points=\"2042.91,144.949 2183.32,144.949 \"/>\n",
       "<path clip-path=\"url(#clip230)\" d=\"M2220.56 164.636 Q2218.76 169.266 2217.04 170.678 Q2215.33 172.09 2212.46 172.09 L2209.06 172.09 L2209.06 168.525 L2211.56 168.525 Q2213.32 168.525 2214.29 167.692 Q2215.26 166.858 2216.44 163.756 L2217.2 161.812 L2206.72 136.303 L2211.23 136.303 L2219.33 156.581 L2227.44 136.303 L2231.95 136.303 L2220.56 164.636 Z\" fill=\"#000000\" fill-rule=\"nonzero\" fill-opacity=\"1\" /><path clip-path=\"url(#clip230)\" d=\"M2239.24 158.293 L2246.88 158.293 L2246.88 131.928 L2238.57 133.595 L2238.57 129.335 L2246.83 127.669 L2251.51 127.669 L2251.51 158.293 L2259.15 158.293 L2259.15 162.229 L2239.24 162.229 L2239.24 158.293 Z\" fill=\"#000000\" fill-rule=\"nonzero\" fill-opacity=\"1\" /><polyline clip-path=\"url(#clip230)\" style=\"stroke:#e26f46; stroke-linecap:round; stroke-linejoin:round; stroke-width:4; stroke-opacity:1; fill:none\" points=\"2042.91,196.789 2183.32,196.789 \"/>\n",
       "<path clip-path=\"url(#clip230)\" d=\"M2220.56 216.476 Q2218.76 221.106 2217.04 222.518 Q2215.33 223.93 2212.46 223.93 L2209.06 223.93 L2209.06 220.365 L2211.56 220.365 Q2213.32 220.365 2214.29 219.532 Q2215.26 218.698 2216.44 215.596 L2217.2 213.652 L2206.72 188.143 L2211.23 188.143 L2219.33 208.421 L2227.44 188.143 L2231.95 188.143 L2220.56 216.476 Z\" fill=\"#000000\" fill-rule=\"nonzero\" fill-opacity=\"1\" /><path clip-path=\"url(#clip230)\" d=\"M2242.46 210.133 L2258.78 210.133 L2258.78 214.069 L2236.83 214.069 L2236.83 210.133 Q2239.5 207.379 2244.08 202.749 Q2248.69 198.096 2249.87 196.754 Q2252.11 194.231 2252.99 192.495 Q2253.89 190.735 2253.89 189.046 Q2253.89 186.291 2251.95 184.555 Q2250.03 182.819 2246.93 182.819 Q2244.73 182.819 2242.27 183.583 Q2239.84 184.347 2237.07 185.897 L2237.07 181.175 Q2239.89 180.041 2242.34 179.462 Q2244.8 178.884 2246.83 178.884 Q2252.2 178.884 2255.4 181.569 Q2258.59 184.254 2258.59 188.745 Q2258.59 190.874 2257.78 192.796 Q2257 194.694 2254.89 197.286 Q2254.31 197.958 2251.21 201.175 Q2248.11 204.37 2242.46 210.133 Z\" fill=\"#000000\" fill-rule=\"nonzero\" fill-opacity=\"1\" /></svg>\n"
      ],
      "text/html": [
       "<?xml version=\"1.0\" encoding=\"utf-8\"?>\n",
       "<svg xmlns=\"http://www.w3.org/2000/svg\" xmlns:xlink=\"http://www.w3.org/1999/xlink\" width=\"600\" height=\"400\" viewBox=\"0 0 2400 1600\">\n",
       "<defs>\n",
       "  <clipPath id=\"clip280\">\n",
       "    <rect x=\"0\" y=\"0\" width=\"2400\" height=\"1600\"/>\n",
       "  </clipPath>\n",
       "</defs>\n",
       "<path clip-path=\"url(#clip280)\" d=\"M0 1600 L2400 1600 L2400 0 L0 0  Z\" fill=\"#ffffff\" fill-rule=\"evenodd\" fill-opacity=\"1\"/>\n",
       "<defs>\n",
       "  <clipPath id=\"clip281\">\n",
       "    <rect x=\"480\" y=\"0\" width=\"1681\" height=\"1600\"/>\n",
       "  </clipPath>\n",
       "</defs>\n",
       "<path clip-path=\"url(#clip280)\" d=\"M246.598 1423.18 L2352.76 1423.18 L2352.76 47.2441 L246.598 47.2441  Z\" fill=\"#ffffff\" fill-rule=\"evenodd\" fill-opacity=\"1\"/>\n",
       "<defs>\n",
       "  <clipPath id=\"clip282\">\n",
       "    <rect x=\"246\" y=\"47\" width=\"2107\" height=\"1377\"/>\n",
       "  </clipPath>\n",
       "</defs>\n",
       "<polyline clip-path=\"url(#clip282)\" style=\"stroke:#000000; stroke-linecap:round; stroke-linejoin:round; stroke-width:2; stroke-opacity:0.1; fill:none\" points=\"724.51,1423.18 724.51,47.2441 \"/>\n",
       "<polyline clip-path=\"url(#clip282)\" style=\"stroke:#000000; stroke-linecap:round; stroke-linejoin:round; stroke-width:2; stroke-opacity:0.1; fill:none\" points=\"1247.39,1423.18 1247.39,47.2441 \"/>\n",
       "<polyline clip-path=\"url(#clip282)\" style=\"stroke:#000000; stroke-linecap:round; stroke-linejoin:round; stroke-width:2; stroke-opacity:0.1; fill:none\" points=\"1770.27,1423.18 1770.27,47.2441 \"/>\n",
       "<polyline clip-path=\"url(#clip282)\" style=\"stroke:#000000; stroke-linecap:round; stroke-linejoin:round; stroke-width:2; stroke-opacity:0.1; fill:none\" points=\"2293.15,1423.18 2293.15,47.2441 \"/>\n",
       "<polyline clip-path=\"url(#clip280)\" style=\"stroke:#000000; stroke-linecap:round; stroke-linejoin:round; stroke-width:4; stroke-opacity:1; fill:none\" points=\"246.598,1423.18 2352.76,1423.18 \"/>\n",
       "<polyline clip-path=\"url(#clip280)\" style=\"stroke:#000000; stroke-linecap:round; stroke-linejoin:round; stroke-width:4; stroke-opacity:1; fill:none\" points=\"724.51,1423.18 724.51,1404.28 \"/>\n",
       "<polyline clip-path=\"url(#clip280)\" style=\"stroke:#000000; stroke-linecap:round; stroke-linejoin:round; stroke-width:4; stroke-opacity:1; fill:none\" points=\"1247.39,1423.18 1247.39,1404.28 \"/>\n",
       "<polyline clip-path=\"url(#clip280)\" style=\"stroke:#000000; stroke-linecap:round; stroke-linejoin:round; stroke-width:4; stroke-opacity:1; fill:none\" points=\"1770.27,1423.18 1770.27,1404.28 \"/>\n",
       "<polyline clip-path=\"url(#clip280)\" style=\"stroke:#000000; stroke-linecap:round; stroke-linejoin:round; stroke-width:4; stroke-opacity:1; fill:none\" points=\"2293.15,1423.18 2293.15,1404.28 \"/>\n",
       "<path clip-path=\"url(#clip280)\" d=\"M714.787 1451.02 L733.144 1451.02 L733.144 1454.96 L719.07 1454.96 L719.07 1463.43 Q720.088 1463.08 721.107 1462.92 Q722.125 1462.73 723.144 1462.73 Q728.931 1462.73 732.31 1465.9 Q735.69 1469.08 735.69 1474.49 Q735.69 1480.07 732.218 1483.17 Q728.746 1486.25 722.426 1486.25 Q720.25 1486.25 717.982 1485.88 Q715.736 1485.51 713.329 1484.77 L713.329 1480.07 Q715.412 1481.2 717.635 1481.76 Q719.857 1482.32 722.334 1482.32 Q726.338 1482.32 728.676 1480.21 Q731.014 1478.1 731.014 1474.49 Q731.014 1470.88 728.676 1468.77 Q726.338 1466.67 722.334 1466.67 Q720.459 1466.67 718.584 1467.08 Q716.732 1467.5 714.787 1468.38 L714.787 1451.02 Z\" fill=\"#000000\" fill-rule=\"nonzero\" fill-opacity=\"1\" /><path clip-path=\"url(#clip280)\" d=\"M1222.08 1481.64 L1229.72 1481.64 L1229.72 1455.28 L1221.41 1456.95 L1221.41 1452.69 L1229.67 1451.02 L1234.34 1451.02 L1234.34 1481.64 L1241.98 1481.64 L1241.98 1485.58 L1222.08 1485.58 L1222.08 1481.64 Z\" fill=\"#000000\" fill-rule=\"nonzero\" fill-opacity=\"1\" /><path clip-path=\"url(#clip280)\" d=\"M1261.43 1454.1 Q1257.82 1454.1 1255.99 1457.66 Q1254.18 1461.2 1254.18 1468.33 Q1254.18 1475.44 1255.99 1479.01 Q1257.82 1482.55 1261.43 1482.55 Q1265.06 1482.55 1266.87 1479.01 Q1268.7 1475.44 1268.7 1468.33 Q1268.7 1461.2 1266.87 1457.66 Q1265.06 1454.1 1261.43 1454.1 M1261.43 1450.39 Q1267.24 1450.39 1270.29 1455 Q1273.37 1459.58 1273.37 1468.33 Q1273.37 1477.06 1270.29 1481.67 Q1267.24 1486.25 1261.43 1486.25 Q1255.62 1486.25 1252.54 1481.67 Q1249.48 1477.06 1249.48 1468.33 Q1249.48 1459.58 1252.54 1455 Q1255.62 1450.39 1261.43 1450.39 Z\" fill=\"#000000\" fill-rule=\"nonzero\" fill-opacity=\"1\" /><path clip-path=\"url(#clip280)\" d=\"M1745.45 1481.64 L1753.09 1481.64 L1753.09 1455.28 L1744.78 1456.95 L1744.78 1452.69 L1753.05 1451.02 L1757.72 1451.02 L1757.72 1481.64 L1765.36 1481.64 L1765.36 1485.58 L1745.45 1485.58 L1745.45 1481.64 Z\" fill=\"#000000\" fill-rule=\"nonzero\" fill-opacity=\"1\" /><path clip-path=\"url(#clip280)\" d=\"M1774.85 1451.02 L1793.21 1451.02 L1793.21 1454.96 L1779.13 1454.96 L1779.13 1463.43 Q1780.15 1463.08 1781.17 1462.92 Q1782.19 1462.73 1783.21 1462.73 Q1789 1462.73 1792.37 1465.9 Q1795.75 1469.08 1795.75 1474.49 Q1795.75 1480.07 1792.28 1483.17 Q1788.81 1486.25 1782.49 1486.25 Q1780.31 1486.25 1778.05 1485.88 Q1775.8 1485.51 1773.39 1484.77 L1773.39 1480.07 Q1775.48 1481.2 1777.7 1481.76 Q1779.92 1482.32 1782.4 1482.32 Q1786.4 1482.32 1788.74 1480.21 Q1791.08 1478.1 1791.08 1474.49 Q1791.08 1470.88 1788.74 1468.77 Q1786.4 1466.67 1782.4 1466.67 Q1780.52 1466.67 1778.65 1467.08 Q1776.8 1467.5 1774.85 1468.38 L1774.85 1451.02 Z\" fill=\"#000000\" fill-rule=\"nonzero\" fill-opacity=\"1\" /><path clip-path=\"url(#clip280)\" d=\"M2271.92 1481.64 L2288.24 1481.64 L2288.24 1485.58 L2266.3 1485.58 L2266.3 1481.64 Q2268.96 1478.89 2273.54 1474.26 Q2278.15 1469.61 2279.33 1468.27 Q2281.57 1465.74 2282.45 1464.01 Q2283.36 1462.25 2283.36 1460.56 Q2283.36 1457.8 2281.41 1456.07 Q2279.49 1454.33 2276.39 1454.33 Q2274.19 1454.33 2271.74 1455.09 Q2269.31 1455.86 2266.53 1457.41 L2266.53 1452.69 Q2269.35 1451.55 2271.81 1450.97 Q2274.26 1450.39 2276.3 1450.39 Q2281.67 1450.39 2284.86 1453.08 Q2288.06 1455.77 2288.06 1460.26 Q2288.06 1462.39 2287.24 1464.31 Q2286.46 1466.2 2284.35 1468.8 Q2283.77 1469.47 2280.67 1472.69 Q2277.57 1475.88 2271.92 1481.64 Z\" fill=\"#000000\" fill-rule=\"nonzero\" fill-opacity=\"1\" /><path clip-path=\"url(#clip280)\" d=\"M2308.05 1454.1 Q2304.44 1454.1 2302.62 1457.66 Q2300.81 1461.2 2300.81 1468.33 Q2300.81 1475.44 2302.62 1479.01 Q2304.44 1482.55 2308.05 1482.55 Q2311.69 1482.55 2313.49 1479.01 Q2315.32 1475.44 2315.32 1468.33 Q2315.32 1461.2 2313.49 1457.66 Q2311.69 1454.1 2308.05 1454.1 M2308.05 1450.39 Q2313.87 1450.39 2316.92 1455 Q2320 1459.58 2320 1468.33 Q2320 1477.06 2316.92 1481.67 Q2313.87 1486.25 2308.05 1486.25 Q2302.24 1486.25 2299.17 1481.67 Q2296.11 1477.06 2296.11 1468.33 Q2296.11 1459.58 2299.17 1455 Q2302.24 1450.39 2308.05 1450.39 Z\" fill=\"#000000\" fill-rule=\"nonzero\" fill-opacity=\"1\" /><path clip-path=\"url(#clip280)\" d=\"M1045.97 1520.52 L1086.17 1520.52 L1086.17 1525.93 L1069.3 1525.93 L1069.3 1568.04 L1062.84 1568.04 L1062.84 1525.93 L1045.97 1525.93 L1045.97 1520.52 Z\" fill=\"#000000\" fill-rule=\"nonzero\" fill-opacity=\"1\" /><path clip-path=\"url(#clip280)\" d=\"M1103.2 1537.87 Q1102.21 1537.3 1101.03 1537.04 Q1099.89 1536.76 1098.49 1536.76 Q1093.52 1536.76 1090.85 1540 Q1088.21 1543.22 1088.21 1549.27 L1088.21 1568.04 L1082.32 1568.04 L1082.32 1532.4 L1088.21 1532.4 L1088.21 1537.93 Q1090.05 1534.69 1093.01 1533.13 Q1095.97 1531.54 1100.21 1531.54 Q1100.81 1531.54 1101.54 1531.63 Q1102.28 1531.7 1103.17 1531.85 L1103.2 1537.87 Z\" fill=\"#000000\" fill-rule=\"nonzero\" fill-opacity=\"1\" /><path clip-path=\"url(#clip280)\" d=\"M1125.54 1550.12 Q1118.45 1550.12 1115.71 1551.75 Q1112.97 1553.37 1112.97 1557.29 Q1112.97 1560.4 1115.01 1562.25 Q1117.08 1564.07 1120.61 1564.07 Q1125.48 1564.07 1128.41 1560.63 Q1131.37 1557.16 1131.37 1551.43 L1131.37 1550.12 L1125.54 1550.12 M1137.22 1547.71 L1137.22 1568.04 L1131.37 1568.04 L1131.37 1562.63 Q1129.36 1565.88 1126.37 1567.44 Q1123.38 1568.97 1119.05 1568.97 Q1113.58 1568.97 1110.33 1565.91 Q1107.11 1562.82 1107.11 1557.67 Q1107.11 1551.65 1111.12 1548.6 Q1115.17 1545.54 1123.16 1545.54 L1131.37 1545.54 L1131.37 1544.97 Q1131.37 1540.93 1128.69 1538.73 Q1126.05 1536.5 1121.25 1536.5 Q1118.19 1536.5 1115.29 1537.23 Q1112.4 1537.97 1109.72 1539.43 L1109.72 1534.02 Q1112.94 1532.78 1115.96 1532.17 Q1118.99 1531.54 1121.85 1531.54 Q1129.59 1531.54 1133.4 1535.55 Q1137.22 1539.56 1137.22 1547.71 Z\" fill=\"#000000\" fill-rule=\"nonzero\" fill-opacity=\"1\" /><path clip-path=\"url(#clip280)\" d=\"M1149.29 1532.4 L1155.14 1532.4 L1155.14 1568.04 L1149.29 1568.04 L1149.29 1532.4 M1149.29 1518.52 L1155.14 1518.52 L1155.14 1525.93 L1149.29 1525.93 L1149.29 1518.52 Z\" fill=\"#000000\" fill-rule=\"nonzero\" fill-opacity=\"1\" /><path clip-path=\"url(#clip280)\" d=\"M1197.03 1546.53 L1197.03 1568.04 L1191.17 1568.04 L1191.17 1546.72 Q1191.17 1541.66 1189.2 1539.14 Q1187.23 1536.63 1183.28 1536.63 Q1178.54 1536.63 1175.8 1539.65 Q1173.06 1542.68 1173.06 1547.9 L1173.06 1568.04 L1167.17 1568.04 L1167.17 1532.4 L1173.06 1532.4 L1173.06 1537.93 Q1175.16 1534.72 1178 1533.13 Q1180.86 1531.54 1184.58 1531.54 Q1190.73 1531.54 1193.88 1535.36 Q1197.03 1539.14 1197.03 1546.53 Z\" fill=\"#000000\" fill-rule=\"nonzero\" fill-opacity=\"1\" /><path clip-path=\"url(#clip280)\" d=\"M1208.71 1532.4 L1214.57 1532.4 L1214.57 1568.04 L1208.71 1568.04 L1208.71 1532.4 M1208.71 1518.52 L1214.57 1518.52 L1214.57 1525.93 L1208.71 1525.93 L1208.71 1518.52 Z\" fill=\"#000000\" fill-rule=\"nonzero\" fill-opacity=\"1\" /><path clip-path=\"url(#clip280)\" d=\"M1256.45 1546.53 L1256.45 1568.04 L1250.6 1568.04 L1250.6 1546.72 Q1250.6 1541.66 1248.62 1539.14 Q1246.65 1536.63 1242.7 1536.63 Q1237.96 1536.63 1235.22 1539.65 Q1232.49 1542.68 1232.49 1547.9 L1232.49 1568.04 L1226.6 1568.04 L1226.6 1532.4 L1232.49 1532.4 L1232.49 1537.93 Q1234.59 1534.72 1237.42 1533.13 Q1240.28 1531.54 1244.01 1531.54 Q1250.15 1531.54 1253.3 1535.36 Q1256.45 1539.14 1256.45 1546.53 Z\" fill=\"#000000\" fill-rule=\"nonzero\" fill-opacity=\"1\" /><path clip-path=\"url(#clip280)\" d=\"M1291.59 1549.81 Q1291.59 1543.44 1288.95 1539.94 Q1286.34 1536.44 1281.6 1536.44 Q1276.89 1536.44 1274.25 1539.94 Q1271.64 1543.44 1271.64 1549.81 Q1271.64 1556.14 1274.25 1559.64 Q1276.89 1563.14 1281.6 1563.14 Q1286.34 1563.14 1288.95 1559.64 Q1291.59 1556.14 1291.59 1549.81 M1297.45 1563.62 Q1297.45 1572.72 1293.41 1577.15 Q1289.36 1581.6 1281.03 1581.6 Q1277.94 1581.6 1275.2 1581.13 Q1272.46 1580.68 1269.89 1579.72 L1269.89 1574.03 Q1272.46 1575.43 1274.98 1576.1 Q1277.49 1576.76 1280.1 1576.76 Q1285.86 1576.76 1288.73 1573.74 Q1291.59 1570.75 1291.59 1564.67 L1291.59 1561.77 Q1289.78 1564.92 1286.95 1566.48 Q1284.11 1568.04 1280.17 1568.04 Q1273.61 1568.04 1269.6 1563.05 Q1265.59 1558.05 1265.59 1549.81 Q1265.59 1541.53 1269.6 1536.53 Q1273.61 1531.54 1280.17 1531.54 Q1284.11 1531.54 1286.95 1533.1 Q1289.78 1534.66 1291.59 1537.81 L1291.59 1532.4 L1297.45 1532.4 L1297.45 1563.62 Z\" fill=\"#000000\" fill-rule=\"nonzero\" fill-opacity=\"1\" /><path clip-path=\"url(#clip280)\" d=\"M1360.72 1548.76 L1360.72 1551.62 L1333.8 1551.62 Q1334.18 1557.67 1337.43 1560.85 Q1340.7 1564 1346.53 1564 Q1349.9 1564 1353.05 1563.17 Q1356.24 1562.35 1359.36 1560.69 L1359.36 1566.23 Q1356.2 1567.57 1352.89 1568.27 Q1349.58 1568.97 1346.18 1568.97 Q1337.65 1568.97 1332.65 1564 Q1327.69 1559.04 1327.69 1550.57 Q1327.69 1541.82 1332.4 1536.69 Q1337.14 1531.54 1345.16 1531.54 Q1352.35 1531.54 1356.52 1536.18 Q1360.72 1540.8 1360.72 1548.76 M1354.87 1547.04 Q1354.8 1542.23 1352.16 1539.37 Q1349.55 1536.5 1345.22 1536.5 Q1340.32 1536.5 1337.36 1539.27 Q1334.43 1542.04 1333.99 1547.07 L1354.87 1547.04 Z\" fill=\"#000000\" fill-rule=\"nonzero\" fill-opacity=\"1\" /><path clip-path=\"url(#clip280)\" d=\"M1376 1562.7 L1376 1581.6 L1370.11 1581.6 L1370.11 1532.4 L1376 1532.4 L1376 1537.81 Q1377.85 1534.62 1380.65 1533.1 Q1383.48 1531.54 1387.4 1531.54 Q1393.89 1531.54 1397.93 1536.69 Q1402.01 1541.85 1402.01 1550.25 Q1402.01 1558.65 1397.93 1563.81 Q1393.89 1568.97 1387.4 1568.97 Q1383.48 1568.97 1380.65 1567.44 Q1377.85 1565.88 1376 1562.7 M1395.93 1550.25 Q1395.93 1543.79 1393.25 1540.13 Q1390.61 1536.44 1385.96 1536.44 Q1381.32 1536.44 1378.64 1540.13 Q1376 1543.79 1376 1550.25 Q1376 1556.71 1378.64 1560.4 Q1381.32 1564.07 1385.96 1564.07 Q1390.61 1564.07 1393.25 1560.4 Q1395.93 1556.71 1395.93 1550.25 Z\" fill=\"#000000\" fill-rule=\"nonzero\" fill-opacity=\"1\" /><path clip-path=\"url(#clip280)\" d=\"M1425.53 1536.5 Q1420.82 1536.5 1418.08 1540.19 Q1415.34 1543.85 1415.34 1550.25 Q1415.34 1556.65 1418.05 1560.34 Q1420.78 1564 1425.53 1564 Q1430.21 1564 1432.94 1560.31 Q1435.68 1556.62 1435.68 1550.25 Q1435.68 1543.92 1432.94 1540.23 Q1430.21 1536.5 1425.53 1536.5 M1425.53 1531.54 Q1433.17 1531.54 1437.53 1536.5 Q1441.89 1541.47 1441.89 1550.25 Q1441.89 1559 1437.53 1564 Q1433.17 1568.97 1425.53 1568.97 Q1417.86 1568.97 1413.5 1564 Q1409.17 1559 1409.17 1550.25 Q1409.17 1541.47 1413.5 1536.5 Q1417.86 1531.54 1425.53 1531.54 Z\" fill=\"#000000\" fill-rule=\"nonzero\" fill-opacity=\"1\" /><path clip-path=\"url(#clip280)\" d=\"M1477.25 1533.76 L1477.25 1539.24 Q1474.77 1537.87 1472.25 1537.2 Q1469.77 1536.5 1467.22 1536.5 Q1461.52 1536.5 1458.37 1540.13 Q1455.22 1543.73 1455.22 1550.25 Q1455.22 1556.78 1458.37 1560.4 Q1461.52 1564 1467.22 1564 Q1469.77 1564 1472.25 1563.33 Q1474.77 1562.63 1477.25 1561.26 L1477.25 1566.68 Q1474.8 1567.82 1472.16 1568.39 Q1469.55 1568.97 1466.59 1568.97 Q1458.53 1568.97 1453.79 1563.91 Q1449.05 1558.85 1449.05 1550.25 Q1449.05 1541.53 1453.82 1536.53 Q1458.63 1531.54 1466.97 1531.54 Q1469.67 1531.54 1472.25 1532.11 Q1474.83 1532.65 1477.25 1533.76 Z\" fill=\"#000000\" fill-rule=\"nonzero\" fill-opacity=\"1\" /><path clip-path=\"url(#clip280)\" d=\"M1517.07 1546.53 L1517.07 1568.04 L1511.21 1568.04 L1511.21 1546.72 Q1511.21 1541.66 1509.24 1539.14 Q1507.26 1536.63 1503.32 1536.63 Q1498.57 1536.63 1495.84 1539.65 Q1493.1 1542.68 1493.1 1547.9 L1493.1 1568.04 L1487.21 1568.04 L1487.21 1518.52 L1493.1 1518.52 L1493.1 1537.93 Q1495.2 1534.72 1498.03 1533.13 Q1500.9 1531.54 1504.62 1531.54 Q1510.76 1531.54 1513.91 1535.36 Q1517.07 1539.14 1517.07 1546.53 Z\" fill=\"#000000\" fill-rule=\"nonzero\" fill-opacity=\"1\" /><path clip-path=\"url(#clip280)\" d=\"M1551.47 1533.45 L1551.47 1538.98 Q1548.99 1537.71 1546.32 1537.07 Q1543.64 1536.44 1540.78 1536.44 Q1536.42 1536.44 1534.22 1537.77 Q1532.06 1539.11 1532.06 1541.79 Q1532.06 1543.82 1533.62 1545 Q1535.18 1546.15 1539.89 1547.2 L1541.89 1547.64 Q1548.13 1548.98 1550.74 1551.43 Q1553.38 1553.85 1553.38 1558.21 Q1553.38 1563.17 1549.44 1566.07 Q1545.52 1568.97 1538.65 1568.97 Q1535.78 1568.97 1532.66 1568.39 Q1529.57 1567.85 1526.14 1566.74 L1526.14 1560.69 Q1529.38 1562.38 1532.53 1563.24 Q1535.69 1564.07 1538.77 1564.07 Q1542.91 1564.07 1545.14 1562.66 Q1547.37 1561.23 1547.37 1558.65 Q1547.37 1556.27 1545.74 1554.99 Q1544.15 1553.72 1538.71 1552.54 L1536.67 1552.07 Q1531.23 1550.92 1528.81 1548.56 Q1526.39 1546.18 1526.39 1542.04 Q1526.39 1537.01 1529.96 1534.27 Q1533.52 1531.54 1540.08 1531.54 Q1543.32 1531.54 1546.19 1532.01 Q1549.05 1532.49 1551.47 1533.45 Z\" fill=\"#000000\" fill-rule=\"nonzero\" fill-opacity=\"1\" /><polyline clip-path=\"url(#clip282)\" style=\"stroke:#000000; stroke-linecap:round; stroke-linejoin:round; stroke-width:2; stroke-opacity:0.1; fill:none\" points=\"246.598,1143.93 2352.76,1143.93 \"/>\n",
       "<polyline clip-path=\"url(#clip282)\" style=\"stroke:#000000; stroke-linecap:round; stroke-linejoin:round; stroke-width:2; stroke-opacity:0.1; fill:none\" points=\"246.598,856.28 2352.76,856.28 \"/>\n",
       "<polyline clip-path=\"url(#clip282)\" style=\"stroke:#000000; stroke-linecap:round; stroke-linejoin:round; stroke-width:2; stroke-opacity:0.1; fill:none\" points=\"246.598,568.626 2352.76,568.626 \"/>\n",
       "<polyline clip-path=\"url(#clip282)\" style=\"stroke:#000000; stroke-linecap:round; stroke-linejoin:round; stroke-width:2; stroke-opacity:0.1; fill:none\" points=\"246.598,280.972 2352.76,280.972 \"/>\n",
       "<polyline clip-path=\"url(#clip280)\" style=\"stroke:#000000; stroke-linecap:round; stroke-linejoin:round; stroke-width:4; stroke-opacity:1; fill:none\" points=\"246.598,1423.18 246.598,47.2441 \"/>\n",
       "<polyline clip-path=\"url(#clip280)\" style=\"stroke:#000000; stroke-linecap:round; stroke-linejoin:round; stroke-width:4; stroke-opacity:1; fill:none\" points=\"246.598,1143.93 265.495,1143.93 \"/>\n",
       "<polyline clip-path=\"url(#clip280)\" style=\"stroke:#000000; stroke-linecap:round; stroke-linejoin:round; stroke-width:4; stroke-opacity:1; fill:none\" points=\"246.598,856.28 265.495,856.28 \"/>\n",
       "<polyline clip-path=\"url(#clip280)\" style=\"stroke:#000000; stroke-linecap:round; stroke-linejoin:round; stroke-width:4; stroke-opacity:1; fill:none\" points=\"246.598,568.626 265.495,568.626 \"/>\n",
       "<polyline clip-path=\"url(#clip280)\" style=\"stroke:#000000; stroke-linecap:round; stroke-linejoin:round; stroke-width:4; stroke-opacity:1; fill:none\" points=\"246.598,280.972 265.495,280.972 \"/>\n",
       "<path clip-path=\"url(#clip280)\" d=\"M62.9365 1129.73 Q59.3254 1129.73 57.4967 1133.3 Q55.6912 1136.84 55.6912 1143.97 Q55.6912 1151.08 57.4967 1154.64 Q59.3254 1158.18 62.9365 1158.18 Q66.5707 1158.18 68.3763 1154.64 Q70.205 1151.08 70.205 1143.97 Q70.205 1136.84 68.3763 1133.3 Q66.5707 1129.73 62.9365 1129.73 M62.9365 1126.03 Q68.7467 1126.03 71.8022 1130.64 Q74.8809 1135.22 74.8809 1143.97 Q74.8809 1152.7 71.8022 1157.3 Q68.7467 1161.89 62.9365 1161.89 Q57.1264 1161.89 54.0477 1157.3 Q50.9921 1152.7 50.9921 1143.97 Q50.9921 1135.22 54.0477 1130.64 Q57.1264 1126.03 62.9365 1126.03 Z\" fill=\"#000000\" fill-rule=\"nonzero\" fill-opacity=\"1\" /><path clip-path=\"url(#clip280)\" d=\"M83.0984 1155.33 L87.9827 1155.33 L87.9827 1161.21 L83.0984 1161.21 L83.0984 1155.33 Z\" fill=\"#000000\" fill-rule=\"nonzero\" fill-opacity=\"1\" /><path clip-path=\"url(#clip280)\" d=\"M108.168 1144.8 Q104.834 1144.8 102.913 1146.58 Q101.015 1148.37 101.015 1151.49 Q101.015 1154.62 102.913 1156.4 Q104.834 1158.18 108.168 1158.18 Q111.501 1158.18 113.422 1156.4 Q115.344 1154.59 115.344 1151.49 Q115.344 1148.37 113.422 1146.58 Q111.524 1144.8 108.168 1144.8 M103.492 1142.81 Q100.483 1142.07 98.7928 1140.01 Q97.1261 1137.95 97.1261 1134.99 Q97.1261 1130.84 100.066 1128.44 Q103.029 1126.03 108.168 1126.03 Q113.33 1126.03 116.27 1128.44 Q119.209 1130.84 119.209 1134.99 Q119.209 1137.95 117.52 1140.01 Q115.853 1142.07 112.867 1142.81 Q116.246 1143.6 118.121 1145.89 Q120.02 1148.18 120.02 1151.49 Q120.02 1156.51 116.941 1159.2 Q113.885 1161.89 108.168 1161.89 Q102.45 1161.89 99.3715 1159.2 Q96.316 1156.51 96.316 1151.49 Q96.316 1148.18 98.2141 1145.89 Q100.112 1143.6 103.492 1142.81 M101.779 1135.43 Q101.779 1138.11 103.446 1139.62 Q105.135 1141.12 108.168 1141.12 Q111.177 1141.12 112.867 1139.62 Q114.58 1138.11 114.58 1135.43 Q114.58 1132.74 112.867 1131.24 Q111.177 1129.73 108.168 1129.73 Q105.135 1129.73 103.446 1131.24 Q101.779 1132.74 101.779 1135.43 Z\" fill=\"#000000\" fill-rule=\"nonzero\" fill-opacity=\"1\" /><path clip-path=\"url(#clip280)\" d=\"M142.496 1142.58 Q145.853 1143.3 147.728 1145.57 Q149.626 1147.83 149.626 1151.17 Q149.626 1156.28 146.107 1159.08 Q142.589 1161.89 136.107 1161.89 Q133.931 1161.89 131.617 1161.45 Q129.325 1161.03 126.871 1160.17 L126.871 1155.66 Q128.816 1156.79 131.131 1157.37 Q133.445 1157.95 135.969 1157.95 Q140.367 1157.95 142.658 1156.21 Q144.973 1154.48 144.973 1151.17 Q144.973 1148.11 142.82 1146.4 Q140.691 1144.66 136.871 1144.66 L132.844 1144.66 L132.844 1140.82 L137.056 1140.82 Q140.506 1140.82 142.334 1139.45 Q144.163 1138.07 144.163 1135.47 Q144.163 1132.81 142.265 1131.4 Q140.39 1129.96 136.871 1129.96 Q134.95 1129.96 132.751 1130.38 Q130.552 1130.8 127.913 1131.68 L127.913 1127.51 Q130.575 1126.77 132.89 1126.4 Q135.228 1126.03 137.288 1126.03 Q142.612 1126.03 145.714 1128.46 Q148.816 1130.87 148.816 1134.99 Q148.816 1137.86 147.172 1139.85 Q145.529 1141.82 142.496 1142.58 Z\" fill=\"#000000\" fill-rule=\"nonzero\" fill-opacity=\"1\" /><path clip-path=\"url(#clip280)\" d=\"M157.311 1126.65 L179.533 1126.65 L179.533 1128.64 L166.987 1161.21 L162.103 1161.21 L173.908 1130.59 L157.311 1130.59 L157.311 1126.65 Z\" fill=\"#000000\" fill-rule=\"nonzero\" fill-opacity=\"1\" /><path clip-path=\"url(#clip280)\" d=\"M198.653 1129.73 Q195.042 1129.73 193.214 1133.3 Q191.408 1136.84 191.408 1143.97 Q191.408 1151.08 193.214 1154.64 Q195.042 1158.18 198.653 1158.18 Q202.288 1158.18 204.093 1154.64 Q205.922 1151.08 205.922 1143.97 Q205.922 1136.84 204.093 1133.3 Q202.288 1129.73 198.653 1129.73 M198.653 1126.03 Q204.464 1126.03 207.519 1130.64 Q210.598 1135.22 210.598 1143.97 Q210.598 1152.7 207.519 1157.3 Q204.464 1161.89 198.653 1161.89 Q192.843 1161.89 189.765 1157.3 Q186.709 1152.7 186.709 1143.97 Q186.709 1135.22 189.765 1130.64 Q192.843 1126.03 198.653 1126.03 Z\" fill=\"#000000\" fill-rule=\"nonzero\" fill-opacity=\"1\" /><path clip-path=\"url(#clip280)\" d=\"M63.9319 842.079 Q60.3208 842.079 58.4921 845.643 Q56.6865 849.185 56.6865 856.315 Q56.6865 863.421 58.4921 866.986 Q60.3208 870.527 63.9319 870.527 Q67.5661 870.527 69.3717 866.986 Q71.2004 863.421 71.2004 856.315 Q71.2004 849.185 69.3717 845.643 Q67.5661 842.079 63.9319 842.079 M63.9319 838.375 Q69.742 838.375 72.7976 842.981 Q75.8763 847.565 75.8763 856.315 Q75.8763 865.041 72.7976 869.648 Q69.742 874.231 63.9319 874.231 Q58.1217 874.231 55.043 869.648 Q51.9875 865.041 51.9875 856.315 Q51.9875 847.565 55.043 842.981 Q58.1217 838.375 63.9319 838.375 Z\" fill=\"#000000\" fill-rule=\"nonzero\" fill-opacity=\"1\" /><path clip-path=\"url(#clip280)\" d=\"M84.0938 867.68 L88.978 867.68 L88.978 873.56 L84.0938 873.56 L84.0938 867.68 Z\" fill=\"#000000\" fill-rule=\"nonzero\" fill-opacity=\"1\" /><path clip-path=\"url(#clip280)\" d=\"M109.163 857.148 Q105.83 857.148 103.909 858.93 Q102.01 860.713 102.01 863.838 Q102.01 866.963 103.909 868.745 Q105.83 870.527 109.163 870.527 Q112.496 870.527 114.418 868.745 Q116.339 866.94 116.339 863.838 Q116.339 860.713 114.418 858.93 Q112.52 857.148 109.163 857.148 M104.487 855.157 Q101.478 854.416 99.7882 852.356 Q98.1215 850.296 98.1215 847.333 Q98.1215 843.19 101.061 840.782 Q104.024 838.375 109.163 838.375 Q114.325 838.375 117.265 840.782 Q120.205 843.19 120.205 847.333 Q120.205 850.296 118.515 852.356 Q116.848 854.416 113.862 855.157 Q117.242 855.944 119.117 858.236 Q121.015 860.528 121.015 863.838 Q121.015 868.861 117.936 871.546 Q114.881 874.231 109.163 874.231 Q103.446 874.231 100.367 871.546 Q97.3113 868.861 97.3113 863.838 Q97.3113 860.528 99.2095 858.236 Q101.108 855.944 104.487 855.157 M102.774 847.773 Q102.774 850.458 104.441 851.963 Q106.131 853.467 109.163 853.467 Q112.172 853.467 113.862 851.963 Q115.575 850.458 115.575 847.773 Q115.575 845.088 113.862 843.583 Q112.172 842.079 109.163 842.079 Q106.131 842.079 104.441 843.583 Q102.774 845.088 102.774 847.773 Z\" fill=\"#000000\" fill-rule=\"nonzero\" fill-opacity=\"1\" /><path clip-path=\"url(#clip280)\" d=\"M143.492 854.926 Q146.848 855.643 148.723 857.912 Q150.621 860.18 150.621 863.514 Q150.621 868.629 147.103 871.43 Q143.584 874.231 137.103 874.231 Q134.927 874.231 132.612 873.791 Q130.32 873.375 127.867 872.518 L127.867 868.004 Q129.811 869.139 132.126 869.717 Q134.441 870.296 136.964 870.296 Q141.362 870.296 143.654 868.56 Q145.968 866.824 145.968 863.514 Q145.968 860.458 143.816 858.745 Q141.686 857.009 137.867 857.009 L133.839 857.009 L133.839 853.166 L138.052 853.166 Q141.501 853.166 143.33 851.801 Q145.158 850.412 145.158 847.819 Q145.158 845.157 143.26 843.745 Q141.385 842.31 137.867 842.31 Q135.945 842.31 133.746 842.727 Q131.547 843.143 128.908 844.023 L128.908 839.856 Q131.57 839.116 133.885 838.745 Q136.223 838.375 138.283 838.375 Q143.607 838.375 146.709 840.805 Q149.811 843.213 149.811 847.333 Q149.811 850.204 148.168 852.194 Q146.524 854.162 143.492 854.926 Z\" fill=\"#000000\" fill-rule=\"nonzero\" fill-opacity=\"1\" /><path clip-path=\"url(#clip280)\" d=\"M158.306 839 L180.528 839 L180.528 840.991 L167.982 873.56 L163.098 873.56 L174.903 842.935 L158.306 842.935 L158.306 839 Z\" fill=\"#000000\" fill-rule=\"nonzero\" fill-opacity=\"1\" /><path clip-path=\"url(#clip280)\" d=\"M189.695 839 L208.051 839 L208.051 842.935 L193.977 842.935 L193.977 851.407 Q194.996 851.06 196.014 850.898 Q197.033 850.713 198.052 850.713 Q203.839 850.713 207.218 853.884 Q210.598 857.055 210.598 862.472 Q210.598 868.051 207.126 871.152 Q203.653 874.231 197.334 874.231 Q195.158 874.231 192.89 873.861 Q190.644 873.49 188.237 872.75 L188.237 868.051 Q190.32 869.185 192.542 869.74 Q194.765 870.296 197.241 870.296 Q201.246 870.296 203.584 868.19 Q205.922 866.083 205.922 862.472 Q205.922 858.861 203.584 856.754 Q201.246 854.648 197.241 854.648 Q195.366 854.648 193.491 855.065 Q191.64 855.481 189.695 856.361 L189.695 839 Z\" fill=\"#000000\" fill-rule=\"nonzero\" fill-opacity=\"1\" /><path clip-path=\"url(#clip280)\" d=\"M62.9365 554.425 Q59.3254 554.425 57.4967 557.989 Q55.6912 561.531 55.6912 568.661 Q55.6912 575.767 57.4967 579.332 Q59.3254 582.873 62.9365 582.873 Q66.5707 582.873 68.3763 579.332 Q70.205 575.767 70.205 568.661 Q70.205 561.531 68.3763 557.989 Q66.5707 554.425 62.9365 554.425 M62.9365 550.721 Q68.7467 550.721 71.8022 555.327 Q74.8809 559.911 74.8809 568.661 Q74.8809 577.387 71.8022 581.994 Q68.7467 586.577 62.9365 586.577 Q57.1264 586.577 54.0477 581.994 Q50.9921 577.387 50.9921 568.661 Q50.9921 559.911 54.0477 555.327 Q57.1264 550.721 62.9365 550.721 Z\" fill=\"#000000\" fill-rule=\"nonzero\" fill-opacity=\"1\" /><path clip-path=\"url(#clip280)\" d=\"M83.0984 580.026 L87.9827 580.026 L87.9827 585.906 L83.0984 585.906 L83.0984 580.026 Z\" fill=\"#000000\" fill-rule=\"nonzero\" fill-opacity=\"1\" /><path clip-path=\"url(#clip280)\" d=\"M108.168 569.494 Q104.834 569.494 102.913 571.276 Q101.015 573.059 101.015 576.184 Q101.015 579.309 102.913 581.091 Q104.834 582.873 108.168 582.873 Q111.501 582.873 113.422 581.091 Q115.344 579.286 115.344 576.184 Q115.344 573.059 113.422 571.276 Q111.524 569.494 108.168 569.494 M103.492 567.503 Q100.483 566.762 98.7928 564.702 Q97.1261 562.642 97.1261 559.679 Q97.1261 555.536 100.066 553.128 Q103.029 550.721 108.168 550.721 Q113.33 550.721 116.27 553.128 Q119.209 555.536 119.209 559.679 Q119.209 562.642 117.52 564.702 Q115.853 566.762 112.867 567.503 Q116.246 568.29 118.121 570.582 Q120.02 572.874 120.02 576.184 Q120.02 581.207 116.941 583.892 Q113.885 586.577 108.168 586.577 Q102.45 586.577 99.3715 583.892 Q96.316 581.207 96.316 576.184 Q96.316 572.874 98.2141 570.582 Q100.112 568.29 103.492 567.503 M101.779 560.119 Q101.779 562.804 103.446 564.309 Q105.135 565.813 108.168 565.813 Q111.177 565.813 112.867 564.309 Q114.58 562.804 114.58 560.119 Q114.58 557.434 112.867 555.929 Q111.177 554.425 108.168 554.425 Q105.135 554.425 103.446 555.929 Q101.779 557.434 101.779 560.119 Z\" fill=\"#000000\" fill-rule=\"nonzero\" fill-opacity=\"1\" /><path clip-path=\"url(#clip280)\" d=\"M142.496 567.272 Q145.853 567.989 147.728 570.258 Q149.626 572.526 149.626 575.86 Q149.626 580.975 146.107 583.776 Q142.589 586.577 136.107 586.577 Q133.931 586.577 131.617 586.137 Q129.325 585.721 126.871 584.864 L126.871 580.35 Q128.816 581.485 131.131 582.063 Q133.445 582.642 135.969 582.642 Q140.367 582.642 142.658 580.906 Q144.973 579.17 144.973 575.86 Q144.973 572.804 142.82 571.091 Q140.691 569.355 136.871 569.355 L132.844 569.355 L132.844 565.512 L137.056 565.512 Q140.506 565.512 142.334 564.147 Q144.163 562.758 144.163 560.165 Q144.163 557.503 142.265 556.091 Q140.39 554.656 136.871 554.656 Q134.95 554.656 132.751 555.073 Q130.552 555.489 127.913 556.369 L127.913 552.202 Q130.575 551.462 132.89 551.091 Q135.228 550.721 137.288 550.721 Q142.612 550.721 145.714 553.151 Q148.816 555.559 148.816 559.679 Q148.816 562.55 147.172 564.54 Q145.529 566.508 142.496 567.272 Z\" fill=\"#000000\" fill-rule=\"nonzero\" fill-opacity=\"1\" /><path clip-path=\"url(#clip280)\" d=\"M168.491 569.494 Q165.158 569.494 163.237 571.276 Q161.339 573.059 161.339 576.184 Q161.339 579.309 163.237 581.091 Q165.158 582.873 168.491 582.873 Q171.825 582.873 173.746 581.091 Q175.667 579.286 175.667 576.184 Q175.667 573.059 173.746 571.276 Q171.848 569.494 168.491 569.494 M163.816 567.503 Q160.806 566.762 159.117 564.702 Q157.45 562.642 157.45 559.679 Q157.45 555.536 160.39 553.128 Q163.353 550.721 168.491 550.721 Q173.654 550.721 176.593 553.128 Q179.533 555.536 179.533 559.679 Q179.533 562.642 177.843 564.702 Q176.177 566.762 173.191 567.503 Q176.57 568.29 178.445 570.582 Q180.343 572.874 180.343 576.184 Q180.343 581.207 177.265 583.892 Q174.209 586.577 168.491 586.577 Q162.774 586.577 159.695 583.892 Q156.64 581.207 156.64 576.184 Q156.64 572.874 158.538 570.582 Q160.436 568.29 163.816 567.503 M162.103 560.119 Q162.103 562.804 163.769 564.309 Q165.459 565.813 168.491 565.813 Q171.501 565.813 173.191 564.309 Q174.903 562.804 174.903 560.119 Q174.903 557.434 173.191 555.929 Q171.501 554.425 168.491 554.425 Q165.459 554.425 163.769 555.929 Q162.103 557.434 162.103 560.119 Z\" fill=\"#000000\" fill-rule=\"nonzero\" fill-opacity=\"1\" /><path clip-path=\"url(#clip280)\" d=\"M198.653 554.425 Q195.042 554.425 193.214 557.989 Q191.408 561.531 191.408 568.661 Q191.408 575.767 193.214 579.332 Q195.042 582.873 198.653 582.873 Q202.288 582.873 204.093 579.332 Q205.922 575.767 205.922 568.661 Q205.922 561.531 204.093 557.989 Q202.288 554.425 198.653 554.425 M198.653 550.721 Q204.464 550.721 207.519 555.327 Q210.598 559.911 210.598 568.661 Q210.598 577.387 207.519 581.994 Q204.464 586.577 198.653 586.577 Q192.843 586.577 189.765 581.994 Q186.709 577.387 186.709 568.661 Q186.709 559.911 189.765 555.327 Q192.843 550.721 198.653 550.721 Z\" fill=\"#000000\" fill-rule=\"nonzero\" fill-opacity=\"1\" /><path clip-path=\"url(#clip280)\" d=\"M63.9319 266.771 Q60.3208 266.771 58.4921 270.335 Q56.6865 273.877 56.6865 281.007 Q56.6865 288.113 58.4921 291.678 Q60.3208 295.219 63.9319 295.219 Q67.5661 295.219 69.3717 291.678 Q71.2004 288.113 71.2004 281.007 Q71.2004 273.877 69.3717 270.335 Q67.5661 266.771 63.9319 266.771 M63.9319 263.067 Q69.742 263.067 72.7976 267.673 Q75.8763 272.257 75.8763 281.007 Q75.8763 289.733 72.7976 294.34 Q69.742 298.923 63.9319 298.923 Q58.1217 298.923 55.043 294.34 Q51.9875 289.733 51.9875 281.007 Q51.9875 272.257 55.043 267.673 Q58.1217 263.067 63.9319 263.067 Z\" fill=\"#000000\" fill-rule=\"nonzero\" fill-opacity=\"1\" /><path clip-path=\"url(#clip280)\" d=\"M84.0938 292.372 L88.978 292.372 L88.978 298.252 L84.0938 298.252 L84.0938 292.372 Z\" fill=\"#000000\" fill-rule=\"nonzero\" fill-opacity=\"1\" /><path clip-path=\"url(#clip280)\" d=\"M109.163 281.84 Q105.83 281.84 103.909 283.622 Q102.01 285.405 102.01 288.53 Q102.01 291.655 103.909 293.437 Q105.83 295.219 109.163 295.219 Q112.496 295.219 114.418 293.437 Q116.339 291.632 116.339 288.53 Q116.339 285.405 114.418 283.622 Q112.52 281.84 109.163 281.84 M104.487 279.849 Q101.478 279.108 99.7882 277.048 Q98.1215 274.988 98.1215 272.025 Q98.1215 267.882 101.061 265.474 Q104.024 263.067 109.163 263.067 Q114.325 263.067 117.265 265.474 Q120.205 267.882 120.205 272.025 Q120.205 274.988 118.515 277.048 Q116.848 279.108 113.862 279.849 Q117.242 280.636 119.117 282.928 Q121.015 285.22 121.015 288.53 Q121.015 293.553 117.936 296.238 Q114.881 298.923 109.163 298.923 Q103.446 298.923 100.367 296.238 Q97.3113 293.553 97.3113 288.53 Q97.3113 285.22 99.2095 282.928 Q101.108 280.636 104.487 279.849 M102.774 272.465 Q102.774 275.15 104.441 276.655 Q106.131 278.159 109.163 278.159 Q112.172 278.159 113.862 276.655 Q115.575 275.15 115.575 272.465 Q115.575 269.78 113.862 268.275 Q112.172 266.771 109.163 266.771 Q106.131 266.771 104.441 268.275 Q102.774 269.78 102.774 272.465 Z\" fill=\"#000000\" fill-rule=\"nonzero\" fill-opacity=\"1\" /><path clip-path=\"url(#clip280)\" d=\"M143.492 279.618 Q146.848 280.335 148.723 282.604 Q150.621 284.872 150.621 288.206 Q150.621 293.321 147.103 296.122 Q143.584 298.923 137.103 298.923 Q134.927 298.923 132.612 298.483 Q130.32 298.067 127.867 297.21 L127.867 292.696 Q129.811 293.831 132.126 294.409 Q134.441 294.988 136.964 294.988 Q141.362 294.988 143.654 293.252 Q145.968 291.516 145.968 288.206 Q145.968 285.15 143.816 283.437 Q141.686 281.701 137.867 281.701 L133.839 281.701 L133.839 277.858 L138.052 277.858 Q141.501 277.858 143.33 276.493 Q145.158 275.104 145.158 272.511 Q145.158 269.849 143.26 268.437 Q141.385 267.002 137.867 267.002 Q135.945 267.002 133.746 267.419 Q131.547 267.835 128.908 268.715 L128.908 264.548 Q131.57 263.808 133.885 263.437 Q136.223 263.067 138.283 263.067 Q143.607 263.067 146.709 265.497 Q149.811 267.905 149.811 272.025 Q149.811 274.896 148.168 276.886 Q146.524 278.854 143.492 279.618 Z\" fill=\"#000000\" fill-rule=\"nonzero\" fill-opacity=\"1\" /><path clip-path=\"url(#clip280)\" d=\"M169.487 281.84 Q166.154 281.84 164.232 283.622 Q162.334 285.405 162.334 288.53 Q162.334 291.655 164.232 293.437 Q166.154 295.219 169.487 295.219 Q172.82 295.219 174.741 293.437 Q176.663 291.632 176.663 288.53 Q176.663 285.405 174.741 283.622 Q172.843 281.84 169.487 281.84 M164.811 279.849 Q161.802 279.108 160.112 277.048 Q158.445 274.988 158.445 272.025 Q158.445 267.882 161.385 265.474 Q164.348 263.067 169.487 263.067 Q174.649 263.067 177.589 265.474 Q180.528 267.882 180.528 272.025 Q180.528 274.988 178.839 277.048 Q177.172 279.108 174.186 279.849 Q177.566 280.636 179.441 282.928 Q181.339 285.22 181.339 288.53 Q181.339 293.553 178.26 296.238 Q175.204 298.923 169.487 298.923 Q163.769 298.923 160.691 296.238 Q157.635 293.553 157.635 288.53 Q157.635 285.22 159.533 282.928 Q161.431 280.636 164.811 279.849 M163.098 272.465 Q163.098 275.15 164.765 276.655 Q166.454 278.159 169.487 278.159 Q172.496 278.159 174.186 276.655 Q175.899 275.15 175.899 272.465 Q175.899 269.78 174.186 268.275 Q172.496 266.771 169.487 266.771 Q166.454 266.771 164.765 268.275 Q163.098 269.78 163.098 272.465 Z\" fill=\"#000000\" fill-rule=\"nonzero\" fill-opacity=\"1\" /><path clip-path=\"url(#clip280)\" d=\"M189.695 263.692 L208.051 263.692 L208.051 267.627 L193.977 267.627 L193.977 276.099 Q194.996 275.752 196.014 275.59 Q197.033 275.405 198.052 275.405 Q203.839 275.405 207.218 278.576 Q210.598 281.747 210.598 287.164 Q210.598 292.743 207.126 295.844 Q203.653 298.923 197.334 298.923 Q195.158 298.923 192.89 298.553 Q190.644 298.182 188.237 297.442 L188.237 292.743 Q190.32 293.877 192.542 294.432 Q194.765 294.988 197.241 294.988 Q201.246 294.988 203.584 292.882 Q205.922 290.775 205.922 287.164 Q205.922 283.553 203.584 281.446 Q201.246 279.34 197.241 279.34 Q195.366 279.34 193.491 279.757 Q191.64 280.173 189.695 281.053 L189.695 263.692 Z\" fill=\"#000000\" fill-rule=\"nonzero\" fill-opacity=\"1\" /><polyline clip-path=\"url(#clip282)\" style=\"stroke:#009af9; stroke-linecap:round; stroke-linejoin:round; stroke-width:4; stroke-opacity:1; fill:none\" points=\"306.206,86.1857 410.782,1001.34 515.358,1102.64 619.934,1159.43 724.51,1205.1 829.085,1247.83 933.661,1282.81 1038.24,1290.86 1142.81,1299.51 1247.39,1311.4 1351.96,1356.19 1456.54,1332.49 1561.12,1339.97 1665.69,1348.78 1770.27,1353.03 1874.84,1369.39 1979.42,1384 2084,1360.34 2188.57,1379.78 2293.15,1384.24 \"/>\n",
       "<polyline clip-path=\"url(#clip282)\" style=\"stroke:#e26f46; stroke-linecap:round; stroke-linejoin:round; stroke-width:4; stroke-opacity:1; fill:none\" points=\"306.206,86.1857 410.782,1001.34 515.358,1102.64 619.934,1159.43 724.51,1205.1 829.085,1247.83 933.661,1282.81 1038.24,1290.86 1142.81,1299.51 1247.39,1311.4 1351.96,1356.19 1456.54,1332.49 1561.12,1339.97 1665.69,1348.78 1770.27,1353.03 1874.84,1369.39 1979.42,1384 2084,1360.34 2188.57,1379.78 2293.15,1384.24 \"/>\n",
       "<path clip-path=\"url(#clip280)\" d=\"M2019.5 248.629 L2282.55 248.629 L2282.55 93.1086 L2019.5 93.1086  Z\" fill=\"#ffffff\" fill-rule=\"evenodd\" fill-opacity=\"1\"/>\n",
       "<polyline clip-path=\"url(#clip280)\" style=\"stroke:#000000; stroke-linecap:round; stroke-linejoin:round; stroke-width:4; stroke-opacity:1; fill:none\" points=\"2019.5,248.629 2282.55,248.629 2282.55,93.1086 2019.5,93.1086 2019.5,248.629 \"/>\n",
       "<polyline clip-path=\"url(#clip280)\" style=\"stroke:#009af9; stroke-linecap:round; stroke-linejoin:round; stroke-width:4; stroke-opacity:1; fill:none\" points=\"2042.91,144.949 2183.32,144.949 \"/>\n",
       "<path clip-path=\"url(#clip280)\" d=\"M2220.56 164.636 Q2218.76 169.266 2217.04 170.678 Q2215.33 172.09 2212.46 172.09 L2209.06 172.09 L2209.06 168.525 L2211.56 168.525 Q2213.32 168.525 2214.29 167.692 Q2215.26 166.858 2216.44 163.756 L2217.2 161.812 L2206.72 136.303 L2211.23 136.303 L2219.33 156.581 L2227.44 136.303 L2231.95 136.303 L2220.56 164.636 Z\" fill=\"#000000\" fill-rule=\"nonzero\" fill-opacity=\"1\" /><path clip-path=\"url(#clip280)\" d=\"M2239.24 158.293 L2246.88 158.293 L2246.88 131.928 L2238.57 133.595 L2238.57 129.335 L2246.83 127.669 L2251.51 127.669 L2251.51 158.293 L2259.15 158.293 L2259.15 162.229 L2239.24 162.229 L2239.24 158.293 Z\" fill=\"#000000\" fill-rule=\"nonzero\" fill-opacity=\"1\" /><polyline clip-path=\"url(#clip280)\" style=\"stroke:#e26f46; stroke-linecap:round; stroke-linejoin:round; stroke-width:4; stroke-opacity:1; fill:none\" points=\"2042.91,196.789 2183.32,196.789 \"/>\n",
       "<path clip-path=\"url(#clip280)\" d=\"M2220.56 216.476 Q2218.76 221.106 2217.04 222.518 Q2215.33 223.93 2212.46 223.93 L2209.06 223.93 L2209.06 220.365 L2211.56 220.365 Q2213.32 220.365 2214.29 219.532 Q2215.26 218.698 2216.44 215.596 L2217.2 213.652 L2206.72 188.143 L2211.23 188.143 L2219.33 208.421 L2227.44 188.143 L2231.95 188.143 L2220.56 216.476 Z\" fill=\"#000000\" fill-rule=\"nonzero\" fill-opacity=\"1\" /><path clip-path=\"url(#clip280)\" d=\"M2242.46 210.133 L2258.78 210.133 L2258.78 214.069 L2236.83 214.069 L2236.83 210.133 Q2239.5 207.379 2244.08 202.749 Q2248.69 198.096 2249.87 196.754 Q2252.11 194.231 2252.99 192.495 Q2253.89 190.735 2253.89 189.046 Q2253.89 186.291 2251.95 184.555 Q2250.03 182.819 2246.93 182.819 Q2244.73 182.819 2242.27 183.583 Q2239.84 184.347 2237.07 185.897 L2237.07 181.175 Q2239.89 180.041 2242.34 179.462 Q2244.8 178.884 2246.83 178.884 Q2252.2 178.884 2255.4 181.569 Q2258.59 184.254 2258.59 188.745 Q2258.59 190.874 2257.78 192.796 Q2257 194.694 2254.89 197.286 Q2254.31 197.958 2251.21 201.175 Q2248.11 204.37 2242.46 210.133 Z\" fill=\"#000000\" fill-rule=\"nonzero\" fill-opacity=\"1\" /></svg>\n"
      ]
     },
     "execution_count": 20,
     "metadata": {},
     "output_type": "execute_result"
    }
   ],
   "source": [
    "p = plot()\n",
    "Plots.plot!(collect(1:epochs), train_losses)\n",
    "Plots.plot!(collect(1:epochs), validation_losses)\n",
    "xaxis!(\"Training epochs\")"
   ]
  },
  {
   "cell_type": "markdown",
   "metadata": {},
   "source": [
    "## Testing the trained Model"
   ]
  },
  {
   "cell_type": "code",
   "execution_count": 21,
   "metadata": {},
   "outputs": [
    {
     "data": {
      "text/plain": [
       "accuracy (generic function with 1 method)"
      ]
     },
     "execution_count": 21,
     "metadata": {},
     "output_type": "execute_result"
    }
   ],
   "source": [
    "function accuracy(model, data ; labels=[\"StartHesitation\", \"Turn\", \"Walking\", \"Normal\"])\n",
    "    model[1].update_memory = false\n",
    "    accuracy = 0f0\n",
    "\n",
    "    for i in 1:size(data, 1)\n",
    "        x = hcat(\n",
    "            data[!, \"AccV\"][i],\n",
    "            data[!, \"AccML\"][i],\n",
    "            data[!, \"AccAP\"][i]\n",
    "        )\n",
    "        \n",
    "        accuracy += Flux.onecold(model(x), labels) == data[!, \"event\"][i]\n",
    "    end\n",
    "\n",
    "    model[1].update_memory = true\n",
    "\n",
    "    accuracy / size(data, 1)\n",
    "end"
   ]
  },
  {
   "cell_type": "code",
   "execution_count": 22,
   "metadata": {},
   "outputs": [
    {
     "ename": "LoadError",
     "evalue": "UndefVarError: `parkinson_test` not defined",
     "output_type": "error",
     "traceback": [
      "UndefVarError: `parkinson_test` not defined",
      "",
      "Stacktrace:",
      " [1] top-level scope",
      "   @ In[22]:2"
     ]
    }
   ],
   "source": [
    "parkinson_test_raw = CSV.read(\"./test_data.csv\", DataFrame)\n",
    "parkinson_test = smoothen(parkinson_test)"
   ]
  },
  {
   "cell_type": "code",
   "execution_count": null,
   "metadata": {},
   "outputs": [],
   "source": [
    "@load \"LSTM.bson\" model"
   ]
  },
  {
   "cell_type": "code",
   "execution_count": null,
   "metadata": {},
   "outputs": [
    {
     "data": {
      "text/plain": [
       "0.83169585f0"
      ]
     },
     "execution_count": 84,
     "metadata": {},
     "output_type": "execute_result"
    }
   ],
   "source": [
    "accuracy(model, parkinson_test)"
   ]
  }
 ],
 "metadata": {
  "kernelspec": {
   "display_name": "Julia 1.9.1",
   "language": "julia",
   "name": "julia-1.9"
  },
  "language_info": {
   "file_extension": ".jl",
   "mimetype": "application/julia",
   "name": "julia",
   "version": "1.9.1"
  }
 },
 "nbformat": 4,
 "nbformat_minor": 2
}
