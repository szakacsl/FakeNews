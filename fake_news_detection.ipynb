{
 "cells": [
  {
   "cell_type": "code",
   "execution_count": 39,
   "metadata": {},
   "outputs": [],
   "source": [
    "import ast\n",
    "import numpy as np\n",
    "import pandas as pd\n",
    "import matplotlib.pyplot as plt\n",
    "\n",
    "from sklearn.feature_extraction.text import CountVectorizer\n",
    "from sklearn.model_selection import train_test_split\n",
    "from sklearn.naive_bayes import MultinomialNB\n",
    "from sklearn.metrics import accuracy_score, classification_report\n",
    "from sklearn.preprocessing import OneHotEncoder\n",
    "from sklearn.linear_model import LogisticRegression"
   ]
  },
  {
   "cell_type": "code",
   "execution_count": 2,
   "metadata": {},
   "outputs": [],
   "source": [
    "def padding_post(sequence, length):\n",
    "    return sequence + ['<pad>'] * (length - len(sequence))"
   ]
  },
  {
   "cell_type": "code",
   "execution_count": 3,
   "metadata": {},
   "outputs": [],
   "source": [
    "def data_loader(data, batch_size):\n",
    "    data = data.sample(frac=1).reset_index(drop=True)"
   ]
  },
  {
   "cell_type": "code",
   "execution_count": 3,
   "metadata": {},
   "outputs": [],
   "source": [
    "train_data = pd.read_csv(\"./test_data.csv\")\n",
    "test_data = pd.read_csv(\"./test_data.csv\")\n",
    "\n",
    "# convert `text` column back to list\n",
    "train_data[\"text\"] = train_data[\"text\"].apply(ast.literal_eval)\n",
    "test_data[\"text\"] = test_data[\"text\"].apply(ast.literal_eval)"
   ]
  },
  {
   "cell_type": "markdown",
   "metadata": {},
   "source": [
    "### 1. Naive Bayes - based only on the content of the articles"
   ]
  },
  {
   "cell_type": "code",
   "execution_count": 12,
   "metadata": {},
   "outputs": [],
   "source": [
    "vectorizer = CountVectorizer(stop_words='english')\n",
    "X = vectorizer.fit_transform(train_data[\"text\"].apply(lambda words: \" \".join(words)))\n",
    "y = train_data[\"label\"]"
   ]
  },
  {
   "cell_type": "code",
   "execution_count": 18,
   "metadata": {},
   "outputs": [],
   "source": [
    "NB_classifier = MultinomialNB()\n",
    "NB_classifier.fit(X, y)\n",
    "\n",
    "pass"
   ]
  },
  {
   "cell_type": "code",
   "execution_count": 25,
   "metadata": {},
   "outputs": [
    {
     "data": {
      "text/plain": [
       "0.9035385361124576"
      ]
     },
     "execution_count": 25,
     "metadata": {},
     "output_type": "execute_result"
    }
   ],
   "source": [
    "X_test = vectorizer.transform(test_data[\"text\"].apply(lambda words: \" \".join(words)))\n",
    "y_pred = NB_classifier.predict(X_test)\n",
    "\n",
    "accuracy = accuracy_score(test_data[\"label\"], y_pred)\n",
    "\n",
    "accuracy"
   ]
  },
  {
   "cell_type": "code",
   "execution_count": 29,
   "metadata": {},
   "outputs": [
    {
     "name": "stdout",
     "output_type": "stream",
     "text": [
      "              precision    recall  f1-score   support\n",
      "\n",
      "           0       0.86      0.96      0.91      2037\n",
      "           1       0.96      0.85      0.90      2089\n",
      "\n",
      "    accuracy                           0.90      4126\n",
      "   macro avg       0.91      0.90      0.90      4126\n",
      "weighted avg       0.91      0.90      0.90      4126\n",
      "\n"
     ]
    }
   ],
   "source": [
    "print(classification_report(test_data[\"label\"], y_pred))"
   ]
  },
  {
   "cell_type": "markdown",
   "metadata": {},
   "source": [
    "### 2. Logistic Regression - based on author"
   ]
  },
  {
   "cell_type": "code",
   "execution_count": 42,
   "metadata": {},
   "outputs": [],
   "source": [
    "onehot = OneHotEncoder()\n",
    "\n",
    "X = onehot.fit_transform(np.array(train_data[\"author\"]).reshape(-1, 1))\n",
    "y = test_data[\"label\"]\n",
    "\n",
    "LR = LogisticRegression()\n",
    "\n",
    "LR.fit(X, y)\n",
    "\n",
    "pass"
   ]
  },
  {
   "cell_type": "code",
   "execution_count": 43,
   "metadata": {},
   "outputs": [
    {
     "data": {
      "text/plain": [
       "0.8691226369365003"
      ]
     },
     "execution_count": 43,
     "metadata": {},
     "output_type": "execute_result"
    }
   ],
   "source": [
    "X_test = onehot.transform(np.array(test_data[\"author\"]).reshape(-1, 1))\n",
    "y_pred = LR.predict(X_test)\n",
    "\n",
    "accuracy = accuracy_score(test_data[\"label\"], y_pred)\n",
    "\n",
    "accuracy"
   ]
  },
  {
   "cell_type": "code",
   "execution_count": 44,
   "metadata": {},
   "outputs": [
    {
     "name": "stdout",
     "output_type": "stream",
     "text": [
      "              precision    recall  f1-score   support\n",
      "\n",
      "           0       0.88      0.85      0.87      2037\n",
      "           1       0.86      0.89      0.87      2089\n",
      "\n",
      "    accuracy                           0.87      4126\n",
      "   macro avg       0.87      0.87      0.87      4126\n",
      "weighted avg       0.87      0.87      0.87      4126\n",
      "\n"
     ]
    }
   ],
   "source": [
    "print(classification_report(test_data[\"label\"], y_pred))"
   ]
  },
  {
   "cell_type": "markdown",
   "metadata": {},
   "source": [
    "### 3. Custom Neural Network - based on both conent and author"
   ]
  },
  {
   "cell_type": "code",
   "execution_count": null,
   "metadata": {},
   "outputs": [],
   "source": []
  }
 ],
 "metadata": {
  "kernelspec": {
   "display_name": "Python 3.10.3 64-bit",
   "language": "python",
   "name": "python3"
  },
  "language_info": {
   "codemirror_mode": {
    "name": "ipython",
    "version": 3
   },
   "file_extension": ".py",
   "mimetype": "text/x-python",
   "name": "python",
   "nbconvert_exporter": "python",
   "pygments_lexer": "ipython3",
   "version": "3.10.3"
  },
  "orig_nbformat": 4,
  "vscode": {
   "interpreter": {
    "hash": "1f8c03f552119a08b050861f96dc0d6633087e20f29f534aef895879f6be696f"
   }
  }
 },
 "nbformat": 4,
 "nbformat_minor": 2
}
