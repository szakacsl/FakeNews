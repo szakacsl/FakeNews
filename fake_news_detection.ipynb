{
 "cells": [
  {
   "cell_type": "code",
   "execution_count": 121,
   "metadata": {},
   "outputs": [],
   "source": [
    "import ast\n",
    "import json\n",
    "import numpy as np\n",
    "import pandas as pd\n",
    "import matplotlib.pyplot as plt\n",
    "\n",
    "from sklearn.feature_extraction.text import CountVectorizer\n",
    "from sklearn.model_selection import train_test_split\n",
    "from sklearn.naive_bayes import MultinomialNB\n",
    "from sklearn.metrics import accuracy_score, classification_report\n",
    "from sklearn.preprocessing import OneHotEncoder\n",
    "from sklearn.linear_model import LogisticRegression\n",
    "\n",
    "import tensorflow as tf\n",
    "from tensorflow.keras.preprocessing.text import Tokenizer\n",
    "from tensorflow.keras.preprocessing.sequence import pad_sequences\n",
    "from tensorflow.keras.models import Sequential\n",
    "from tensorflow.keras.layers import Embedding, LSTM, Dense, Dropout\n",
    "from tensorflow.keras.callbacks import EarlyStopping"
   ]
  },
  {
   "cell_type": "code",
   "execution_count": 122,
   "metadata": {},
   "outputs": [],
   "source": [
    "train_data = pd.read_csv(\"./test_data.csv\")\n",
    "test_data = pd.read_csv(\"./test_data.csv\")\n",
    "\n",
    "# convert `text` column back to list\n",
    "train_data[\"text\"] = train_data[\"text\"].apply(ast.literal_eval)\n",
    "test_data[\"text\"] = test_data[\"text\"].apply(ast.literal_eval)"
   ]
  },
  {
   "cell_type": "markdown",
   "metadata": {},
   "source": [
    "### 1. Naive Bayes - based only on the content of the articles"
   ]
  },
  {
   "cell_type": "code",
   "execution_count": 123,
   "metadata": {},
   "outputs": [],
   "source": [
    "vectorizer = CountVectorizer(stop_words='english')\n",
    "X = vectorizer.fit_transform(train_data[\"text\"].apply(lambda words: \" \".join(words)))\n",
    "y = train_data[\"label\"]"
   ]
  },
  {
   "cell_type": "code",
   "execution_count": 124,
   "metadata": {},
   "outputs": [],
   "source": [
    "NB_classifier = MultinomialNB()\n",
    "NB_classifier.fit(X, y)\n",
    "\n",
    "pass"
   ]
  },
  {
   "cell_type": "code",
   "execution_count": 125,
   "metadata": {},
   "outputs": [
    {
     "data": {
      "text/plain": [
       "0.9035385361124576"
      ]
     },
     "execution_count": 125,
     "metadata": {},
     "output_type": "execute_result"
    }
   ],
   "source": [
    "X_test = vectorizer.transform(test_data[\"text\"].apply(lambda words: \" \".join(words)))\n",
    "y_pred = NB_classifier.predict(X_test)\n",
    "\n",
    "accuracy = accuracy_score(test_data[\"label\"], y_pred)\n",
    "\n",
    "accuracy"
   ]
  },
  {
   "cell_type": "code",
   "execution_count": 126,
   "metadata": {},
   "outputs": [
    {
     "name": "stdout",
     "output_type": "stream",
     "text": [
      "              precision    recall  f1-score   support\n",
      "\n",
      "           0       0.86      0.96      0.91      2037\n",
      "           1       0.96      0.85      0.90      2089\n",
      "\n",
      "    accuracy                           0.90      4126\n",
      "   macro avg       0.91      0.90      0.90      4126\n",
      "weighted avg       0.91      0.90      0.90      4126\n",
      "\n"
     ]
    }
   ],
   "source": [
    "print(classification_report(test_data[\"label\"], y_pred))"
   ]
  },
  {
   "cell_type": "markdown",
   "metadata": {},
   "source": [
    "### 2. Logistic Regression - based on author"
   ]
  },
  {
   "cell_type": "code",
   "execution_count": 127,
   "metadata": {},
   "outputs": [],
   "source": [
    "onehot = OneHotEncoder()\n",
    "\n",
    "X = onehot.fit_transform(np.array(train_data[\"author\"]).reshape(-1, 1))\n",
    "y = train_data[\"label\"]\n",
    "\n",
    "LR = LogisticRegression()\n",
    "\n",
    "LR.fit(X, y)\n",
    "\n",
    "pass"
   ]
  },
  {
   "cell_type": "code",
   "execution_count": 128,
   "metadata": {},
   "outputs": [
    {
     "data": {
      "text/plain": [
       "0.8691226369365003"
      ]
     },
     "execution_count": 128,
     "metadata": {},
     "output_type": "execute_result"
    }
   ],
   "source": [
    "X_test = onehot.transform(np.array(test_data[\"author\"]).reshape(-1, 1))\n",
    "y_pred = LR.predict(X_test)\n",
    "\n",
    "accuracy = accuracy_score(test_data[\"label\"], y_pred)\n",
    "\n",
    "accuracy"
   ]
  },
  {
   "cell_type": "code",
   "execution_count": 129,
   "metadata": {},
   "outputs": [
    {
     "name": "stdout",
     "output_type": "stream",
     "text": [
      "              precision    recall  f1-score   support\n",
      "\n",
      "           0       0.88      0.85      0.87      2037\n",
      "           1       0.86      0.89      0.87      2089\n",
      "\n",
      "    accuracy                           0.87      4126\n",
      "   macro avg       0.87      0.87      0.87      4126\n",
      "weighted avg       0.87      0.87      0.87      4126\n",
      "\n"
     ]
    }
   ],
   "source": [
    "print(classification_report(test_data[\"label\"], y_pred))"
   ]
  },
  {
   "cell_type": "markdown",
   "metadata": {},
   "source": [
    "### 3. Custom Neural Network - based on both conent and author"
   ]
  },
  {
   "cell_type": "code",
   "execution_count": 130,
   "metadata": {},
   "outputs": [
    {
     "data": {
      "text/plain": [
       "140914"
      ]
     },
     "execution_count": 130,
     "metadata": {},
     "output_type": "execute_result"
    }
   ],
   "source": [
    "vocab_file = open(\"./data/text_vocab.json\", mode=\"r\")\n",
    "text_vocab = json.load(vocab_file)\n",
    "\n",
    "\n",
    "vocab_size"
   ]
  },
  {
   "cell_type": "code",
   "execution_count": 158,
   "metadata": {},
   "outputs": [],
   "source": [
    "def padding_post(sequence, length):\n",
    "    return np.array(sequence + [0] * (length - len(sequence)))"
   ]
  },
  {
   "cell_type": "code",
   "execution_count": 132,
   "metadata": {},
   "outputs": [],
   "source": [
    "def encode_text(sequence):\n",
    "    return [text_vocab[word] for word in sequence]"
   ]
  },
  {
   "cell_type": "code",
   "execution_count": 133,
   "metadata": {},
   "outputs": [],
   "source": [
    "def get_data(df, batch_size, max_len):\n",
    "    for i in range(0, len(df[\"text\"]), batch_size):\n",
    "        x = [encode_text(padding_post(sequence, max_len)) for sequence in df[\"text\"].iloc[i:i+batch_size]]\n",
    "        y = [label for label in df[\"label\"].iloc[i:i+batch_size]]\n",
    "\n",
    "        yield x, y"
   ]
  },
  {
   "cell_type": "code",
   "execution_count": 171,
   "metadata": {},
   "outputs": [],
   "source": [
    "vocab_size = len(text_vocab)\n",
    "embedding_dim = 2\n",
    "max_len = max(train_data['text'].str.len())\n",
    "drop_value = 0.3\n",
    "batch_size = 32\n",
    "epoch=10"
   ]
  },
  {
   "cell_type": "code",
   "execution_count": null,
   "metadata": {},
   "outputs": [],
   "source": [
    "# creating dense vectors from the input sequences\n",
    "Training_seq = [encode_text(sequence) for sequence in train_data[\"text\"]]\n",
    "Training_pad = np.array([padding_post(sequence, max_len) for sequence in Training_seq])\n",
    "\n",
    "Test_seq = [encode_text(sequence) for sequence in test_data[\"text\"]]\n",
    "Test_pad = np.array([padding_post(sequence, max_len) for sequence in Test_seq])"
   ]
  },
  {
   "cell_type": "code",
   "execution_count": 176,
   "metadata": {},
   "outputs": [
    {
     "name": "stdout",
     "output_type": "stream",
     "text": [
      "Epoch 1/10\n",
      "129/129 - 4s - loss: 0.6580 - accuracy: 0.6927 - 4s/epoch - 34ms/step\n",
      "Epoch 2/10\n",
      "129/129 - 4s - loss: 0.4845 - accuracy: 0.8548 - 4s/epoch - 27ms/step\n",
      "Epoch 3/10\n",
      "129/129 - 4s - loss: 0.2984 - accuracy: 0.9164 - 4s/epoch - 28ms/step\n",
      "Epoch 4/10\n",
      "129/129 - 4s - loss: 0.2002 - accuracy: 0.9423 - 4s/epoch - 29ms/step\n",
      "Epoch 5/10\n",
      "129/129 - 4s - loss: 0.1480 - accuracy: 0.9549 - 4s/epoch - 28ms/step\n",
      "Epoch 6/10\n",
      "129/129 - 4s - loss: 0.1183 - accuracy: 0.9627 - 4s/epoch - 28ms/step\n",
      "Epoch 7/10\n",
      "129/129 - 4s - loss: 0.0923 - accuracy: 0.9704 - 4s/epoch - 28ms/step\n",
      "Epoch 8/10\n",
      "129/129 - 4s - loss: 0.0760 - accuracy: 0.9794 - 4s/epoch - 27ms/step\n",
      "Epoch 9/10\n",
      "129/129 - 4s - loss: 0.0635 - accuracy: 0.9823 - 4s/epoch - 28ms/step\n",
      "Epoch 10/10\n",
      "129/129 - 3s - loss: 0.0585 - accuracy: 0.9859 - 3s/epoch - 27ms/step\n"
     ]
    }
   ],
   "source": [
    "model = tf.keras.models.Sequential([tf.keras.layers.Embedding(vocab_size, 16, input_length=max_len),\n",
    "                                  tf.keras.layers.GlobalAveragePooling1D(),\n",
    "                                  tf.keras.layers.Dropout(0.5),\n",
    "                                  tf.keras.layers.Dense(16,activation='relu'),\n",
    "                                  tf.keras.layers.Dropout(0.5),\n",
    "                                  tf.keras.layers.Dense(1,activation='sigmoid')])\n",
    "\n",
    "\n",
    "model.compile(loss=tf.keras.losses.BinaryCrossentropy(from_logits=False),metrics=['accuracy'],optimizer='adam')\n",
    "\n",
    "early_stop = tf.keras.callbacks.EarlyStopping(monitor='accuracy', patience=3)\n",
    "\n",
    "history = model.fit(Training_pad, train_data[\"label\"], epochs=epoch, callbacks=[early_stop], verbose=2)\n"
   ]
  },
  {
   "cell_type": "code",
   "execution_count": 177,
   "metadata": {},
   "outputs": [
    {
     "name": "stdout",
     "output_type": "stream",
     "text": [
      "129/129 [==============================] - 0s 2ms/step - loss: 0.0242 - accuracy: 0.9976\n"
     ]
    },
    {
     "data": {
      "text/plain": [
       "[0.024190040305256844, 0.9975763559341431]"
      ]
     },
     "execution_count": 177,
     "metadata": {},
     "output_type": "execute_result"
    }
   ],
   "source": [
    "model.evaluate(Test_pad, test_data[\"label\"])"
   ]
  },
  {
   "cell_type": "code",
   "execution_count": 178,
   "metadata": {},
   "outputs": [
    {
     "data": {
      "image/png": "[encoded data removed]",
      "text/plain": [
       "<Figure size 640x480 with 1 Axes>"
      ]
     },
     "metadata": {},
     "output_type": "display_data"
    }
   ],
   "source": [
    "plt.plot(history.history['accuracy'])\n",
    "plt.title('model accuracy')\n",
    "plt.ylabel('accuracy')\n",
    "plt.xlabel('epoch')\n",
    "\n",
    "plt.show()"
   ]
  },
  {
   "cell_type": "code",
   "execution_count": 175,
   "metadata": {},
   "outputs": [
    {
     "name": "stdout",
     "output_type": "stream",
     "text": [
      "model compiled\n",
      "start training\n",
      "Epoch 1/10\n",
      "129/129 [==============================] - ETA: 0s - loss: 0.6937 - accuracy: 0.4968WARNING:tensorflow:Early stopping conditioned on metric `val_loss` which is not available. Available metrics are: loss,accuracy\n",
      "129/129 [==============================] - 79s 596ms/step - loss: 0.6937 - accuracy: 0.4968\n",
      "Epoch 2/10\n",
      "129/129 [==============================] - ETA: 0s - loss: 0.6932 - accuracy: 0.5080WARNING:tensorflow:Early stopping conditioned on metric `val_loss` which is not available. Available metrics are: loss,accuracy\n",
      "129/129 [==============================] - 76s 586ms/step - loss: 0.6932 - accuracy: 0.5080\n",
      "Epoch 3/10\n",
      "129/129 [==============================] - ETA: 0s - loss: 0.6934 - accuracy: 0.5007WARNING:tensorflow:Early stopping conditioned on metric `val_loss` which is not available. Available metrics are: loss,accuracy\n",
      "129/129 [==============================] - 81s 631ms/step - loss: 0.6934 - accuracy: 0.5007\n",
      "Epoch 4/10\n",
      "129/129 [==============================] - ETA: 0s - loss: 0.6934 - accuracy: 0.4966WARNING:tensorflow:Early stopping conditioned on metric `val_loss` which is not available. Available metrics are: loss,accuracy\n",
      "129/129 [==============================] - 84s 654ms/step - loss: 0.6934 - accuracy: 0.4966\n",
      "Epoch 5/10\n",
      "129/129 [==============================] - ETA: 0s - loss: 0.6932 - accuracy: 0.5097WARNING:tensorflow:Early stopping conditioned on metric `val_loss` which is not available. Available metrics are: loss,accuracy\n",
      "129/129 [==============================] - 76s 588ms/step - loss: 0.6932 - accuracy: 0.5097\n",
      "Epoch 6/10\n",
      "129/129 [==============================] - ETA: 0s - loss: 0.6931 - accuracy: 0.5034WARNING:tensorflow:Early stopping conditioned on metric `val_loss` which is not available. Available metrics are: loss,accuracy\n",
      "129/129 [==============================] - 76s 586ms/step - loss: 0.6931 - accuracy: 0.5034\n",
      "Epoch 7/10\n",
      "129/129 [==============================] - ETA: 0s - loss: 0.6935 - accuracy: 0.4978WARNING:tensorflow:Early stopping conditioned on metric `val_loss` which is not available. Available metrics are: loss,accuracy\n",
      "129/129 [==============================] - 76s 590ms/step - loss: 0.6935 - accuracy: 0.4978\n",
      "Epoch 8/10\n",
      "129/129 [==============================] - ETA: 0s - loss: 0.6930 - accuracy: 0.5032WARNING:tensorflow:Early stopping conditioned on metric `val_loss` which is not available. Available metrics are: loss,accuracy\n",
      "129/129 [==============================] - 78s 606ms/step - loss: 0.6930 - accuracy: 0.5032\n",
      "Epoch 9/10\n",
      "129/129 [==============================] - ETA: 0s - loss: 0.6935 - accuracy: 0.5056WARNING:tensorflow:Early stopping conditioned on metric `val_loss` which is not available. Available metrics are: loss,accuracy\n",
      "129/129 [==============================] - 79s 612ms/step - loss: 0.6935 - accuracy: 0.5056\n",
      "Epoch 10/10\n",
      "129/129 [==============================] - ETA: 0s - loss: 0.6932 - accuracy: 0.5022WARNING:tensorflow:Early stopping conditioned on metric `val_loss` which is not available. Available metrics are: loss,accuracy\n",
      "129/129 [==============================] - 79s 615ms/step - loss: 0.6932 - accuracy: 0.5022\n",
      "model trained\n",
      "129/129 [==============================] - 23s 176ms/step - loss: 0.6933 - accuracy: 0.5063\n",
      "Test Loss: 0.6933\n",
      "Test Accuracy: 0.5063\n"
     ]
    }
   ],
   "source": [
    "# Define the model architecture\n",
    "model = Sequential()\n",
    "model.add(Embedding(vocab_size, embedding_dim, input_length=max_len))\n",
    "model.add(LSTM(128))\n",
    "model.add(Dropout(drop_value))\n",
    "model.add(Dense(32, activation='relu'))\n",
    "model.add(Dropout(drop_value))\n",
    "model.add(Dense(1, activation='sigmoid'))\n",
    "\n",
    "# Compile the model\n",
    "model.compile(optimizer='adam', loss='binary_crossentropy', metrics=['accuracy'])\n",
    "\n",
    "# Set up early stopping\n",
    "early_stop = EarlyStopping(patience=3, restore_best_weights=True)\n",
    "\n",
    "# Train the model\n",
    "model.fit(\n",
    "    Training_pad,\n",
    "    tf.convert_to_tensor(train_data['label']),\n",
    "    epochs=10, batch_size=32, callbacks=[early_stop]\n",
    ")\n",
    "\n",
    "# Evaluate the model\n",
    "loss, accuracy = model.evaluate(Test_pad, test_data['label'])\n",
    "print(f'Test Loss: {loss:.4f}')\n",
    "print(f'Test Accuracy: {accuracy:.4f}')"
   ]
  }
 ],
 "metadata": {
  "kernelspec": {
   "display_name": "Python 3.10.3 64-bit",
   "language": "python",
   "name": "python3"
  },
  "language_info": {
   "codemirror_mode": {
    "name": "ipython",
    "version": 3
   },
   "file_extension": ".py",
   "mimetype": "text/x-python",
   "name": "python",
   "nbconvert_exporter": "python",
   "pygments_lexer": "ipython3",
   "version": "3.10.3"
  },
  "orig_nbformat": 4,
  "vscode": {
   "interpreter": {
    "hash": "1f8c03f552119a08b050861f96dc0d6633087e20f29f534aef895879f6be696f"
   }
  }
 },
 "nbformat": 4,
 "nbformat_minor": 2
}
