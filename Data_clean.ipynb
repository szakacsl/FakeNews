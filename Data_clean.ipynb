{
 "cells": [
  {
   "cell_type": "code",
   "execution_count": 15,
   "id": "72c5043b",
   "metadata": {},
   "outputs": [],
   "source": [
    "import pandas as pd\n",
    "import numpy as np\n",
    "import json\n",
    "import gc\n",
    "\n",
    "import nltk\n",
    "from nltk.corpus import stopwords\n",
    "import re"
   ]
  },
  {
   "cell_type": "code",
   "execution_count": 3,
   "id": "62c35e32",
   "metadata": {},
   "outputs": [
    {
     "data": {
      "text/html": [
       "<div>\n",
       "<style scoped>\n",
       "    .dataframe tbody tr th:only-of-type {\n",
       "        vertical-align: middle;\n",
       "    }\n",
       "\n",
       "    .dataframe tbody tr th {\n",
       "        vertical-align: top;\n",
       "    }\n",
       "\n",
       "    .dataframe thead th {\n",
       "        text-align: right;\n",
       "    }\n",
       "</style>\n",
       "<table border=\"1\" class=\"dataframe\">\n",
       "  <thead>\n",
       "    <tr style=\"text-align: right;\">\n",
       "      <th></th>\n",
       "      <th>id</th>\n",
       "      <th>title</th>\n",
       "      <th>author</th>\n",
       "      <th>text</th>\n",
       "      <th>label</th>\n",
       "    </tr>\n",
       "  </thead>\n",
       "  <tbody>\n",
       "    <tr>\n",
       "      <th>0</th>\n",
       "      <td>0</td>\n",
       "      <td>House Dem Aide: We Didn’t Even See Comey’s Let...</td>\n",
       "      <td>Darrell Lucus</td>\n",
       "      <td>House Dem Aide: We Didn’t Even See Comey’s Let...</td>\n",
       "      <td>1</td>\n",
       "    </tr>\n",
       "    <tr>\n",
       "      <th>1</th>\n",
       "      <td>1</td>\n",
       "      <td>FLYNN: Hillary Clinton, Big Woman on Campus - ...</td>\n",
       "      <td>Daniel J. Flynn</td>\n",
       "      <td>Ever get the feeling your life circles the rou...</td>\n",
       "      <td>0</td>\n",
       "    </tr>\n",
       "    <tr>\n",
       "      <th>2</th>\n",
       "      <td>2</td>\n",
       "      <td>Why the Truth Might Get You Fired</td>\n",
       "      <td>Consortiumnews.com</td>\n",
       "      <td>Why the Truth Might Get You Fired October 29, ...</td>\n",
       "      <td>1</td>\n",
       "    </tr>\n",
       "    <tr>\n",
       "      <th>3</th>\n",
       "      <td>3</td>\n",
       "      <td>15 Civilians Killed In Single US Airstrike Hav...</td>\n",
       "      <td>Jessica Purkiss</td>\n",
       "      <td>Videos 15 Civilians Killed In Single US Airstr...</td>\n",
       "      <td>1</td>\n",
       "    </tr>\n",
       "    <tr>\n",
       "      <th>4</th>\n",
       "      <td>4</td>\n",
       "      <td>Iranian woman jailed for fictional unpublished...</td>\n",
       "      <td>Howard Portnoy</td>\n",
       "      <td>Print \\nAn Iranian woman has been sentenced to...</td>\n",
       "      <td>1</td>\n",
       "    </tr>\n",
       "    <tr>\n",
       "      <th>...</th>\n",
       "      <td>...</td>\n",
       "      <td>...</td>\n",
       "      <td>...</td>\n",
       "      <td>...</td>\n",
       "      <td>...</td>\n",
       "    </tr>\n",
       "    <tr>\n",
       "      <th>20795</th>\n",
       "      <td>20795</td>\n",
       "      <td>Rapper T.I.: Trump a ’Poster Child For White S...</td>\n",
       "      <td>Jerome Hudson</td>\n",
       "      <td>Rapper T. I. unloaded on black celebrities who...</td>\n",
       "      <td>0</td>\n",
       "    </tr>\n",
       "    <tr>\n",
       "      <th>20796</th>\n",
       "      <td>20796</td>\n",
       "      <td>N.F.L. Playoffs: Schedule, Matchups and Odds -...</td>\n",
       "      <td>Benjamin Hoffman</td>\n",
       "      <td>When the Green Bay Packers lost to the Washing...</td>\n",
       "      <td>0</td>\n",
       "    </tr>\n",
       "    <tr>\n",
       "      <th>20797</th>\n",
       "      <td>20797</td>\n",
       "      <td>Macy’s Is Said to Receive Takeover Approach by...</td>\n",
       "      <td>Michael J. de la Merced and Rachel Abrams</td>\n",
       "      <td>The Macy’s of today grew from the union of sev...</td>\n",
       "      <td>0</td>\n",
       "    </tr>\n",
       "    <tr>\n",
       "      <th>20798</th>\n",
       "      <td>20798</td>\n",
       "      <td>NATO, Russia To Hold Parallel Exercises In Bal...</td>\n",
       "      <td>Alex Ansary</td>\n",
       "      <td>NATO, Russia To Hold Parallel Exercises In Bal...</td>\n",
       "      <td>1</td>\n",
       "    </tr>\n",
       "    <tr>\n",
       "      <th>20799</th>\n",
       "      <td>20799</td>\n",
       "      <td>What Keeps the F-35 Alive</td>\n",
       "      <td>David Swanson</td>\n",
       "      <td>David Swanson is an author, activist, journa...</td>\n",
       "      <td>1</td>\n",
       "    </tr>\n",
       "  </tbody>\n",
       "</table>\n",
       "<p>20800 rows × 5 columns</p>\n",
       "</div>"
      ],
      "text/plain": [
       "          id                                              title  \\\n",
       "0          0  House Dem Aide: We Didn’t Even See Comey’s Let...   \n",
       "1          1  FLYNN: Hillary Clinton, Big Woman on Campus - ...   \n",
       "2          2                  Why the Truth Might Get You Fired   \n",
       "3          3  15 Civilians Killed In Single US Airstrike Hav...   \n",
       "4          4  Iranian woman jailed for fictional unpublished...   \n",
       "...      ...                                                ...   \n",
       "20795  20795  Rapper T.I.: Trump a ’Poster Child For White S...   \n",
       "20796  20796  N.F.L. Playoffs: Schedule, Matchups and Odds -...   \n",
       "20797  20797  Macy’s Is Said to Receive Takeover Approach by...   \n",
       "20798  20798  NATO, Russia To Hold Parallel Exercises In Bal...   \n",
       "20799  20799                          What Keeps the F-35 Alive   \n",
       "\n",
       "                                          author  \\\n",
       "0                                  Darrell Lucus   \n",
       "1                                Daniel J. Flynn   \n",
       "2                             Consortiumnews.com   \n",
       "3                                Jessica Purkiss   \n",
       "4                                 Howard Portnoy   \n",
       "...                                          ...   \n",
       "20795                              Jerome Hudson   \n",
       "20796                           Benjamin Hoffman   \n",
       "20797  Michael J. de la Merced and Rachel Abrams   \n",
       "20798                                Alex Ansary   \n",
       "20799                              David Swanson   \n",
       "\n",
       "                                                    text  label  \n",
       "0      House Dem Aide: We Didn’t Even See Comey’s Let...      1  \n",
       "1      Ever get the feeling your life circles the rou...      0  \n",
       "2      Why the Truth Might Get You Fired October 29, ...      1  \n",
       "3      Videos 15 Civilians Killed In Single US Airstr...      1  \n",
       "4      Print \\nAn Iranian woman has been sentenced to...      1  \n",
       "...                                                  ...    ...  \n",
       "20795  Rapper T. I. unloaded on black celebrities who...      0  \n",
       "20796  When the Green Bay Packers lost to the Washing...      0  \n",
       "20797  The Macy’s of today grew from the union of sev...      0  \n",
       "20798  NATO, Russia To Hold Parallel Exercises In Bal...      1  \n",
       "20799    David Swanson is an author, activist, journa...      1  \n",
       "\n",
       "[20800 rows x 5 columns]"
      ]
     },
     "execution_count": 3,
     "metadata": {},
     "output_type": "execute_result"
    }
   ],
   "source": [
    "train_path = \"data/train.csv\"\n",
    "test_path = \"data/test.csv\"\n",
    "submit_path = \"data/submit.csv\"\n",
    "\n",
    "df_train = pd.read_csv(train_path)\n",
    "df_test = pd.read_csv(test_path)\n",
    "df_submit = pd.read_csv(submit_path)\n",
    "\n",
    "df_train"
   ]
  },
  {
   "cell_type": "code",
   "execution_count": 4,
   "id": "ca6537ea",
   "metadata": {},
   "outputs": [],
   "source": [
    "df_test[\"label\"] = df_submit[\"label\"]"
   ]
  },
  {
   "cell_type": "code",
   "execution_count": 5,
   "id": "f2353a97",
   "metadata": {},
   "outputs": [],
   "source": [
    "# Filter \n",
    "def filter(texts):\n",
    "    clean_data_array = []\n",
    "    i = 0\n",
    "    for text in texts:\n",
    "        text = str(text)\n",
    "        filteredText = re.sub('[^A-Za-z]+', ' ', text)\n",
    "        words = nltk.word_tokenize(filteredText)\n",
    "        stopwords = nltk.corpus.stopwords.words(\"english\")\n",
    "        cleaned = [word for word in words if word not in stopwords]\n",
    "        cleaned = [word.lower() for word in words if (word not in stopwords) and len(word) > 2]\n",
    "        clean_data_array.append(cleaned)\n",
    "\n",
    "    return clean_data_array"
   ]
  },
  {
   "cell_type": "code",
   "execution_count": 6,
   "id": "32d11fe8",
   "metadata": {},
   "outputs": [],
   "source": [
    "filtered_texts_train = filter(df_train[\"text\"])"
   ]
  },
  {
   "cell_type": "code",
   "execution_count": 7,
   "id": "f49f8b0c",
   "metadata": {},
   "outputs": [],
   "source": [
    "filtered_texts_test = filter(df_test[\"text\"])"
   ]
  },
  {
   "cell_type": "code",
   "execution_count": 8,
   "metadata": {},
   "outputs": [
    {
     "name": "stdout",
     "output_type": "stream",
     "text": [
      "['house', 'dem', 'aide', 'didn', 'even', 'see', 'comey', 'letter', 'until', 'jason', 'chaffetz', 'tweeted', 'darrell', 'lucus', 'october', 'subscribe', 'jason', 'chaffetz', 'stump', 'american', 'fork', 'utah', 'image', 'courtesy', 'michael', 'jolley', 'available', 'creative', 'commons', 'license', 'with', 'apologies', 'keith', 'olbermann', 'doubt', 'worst', 'person', 'the', 'world', 'week', 'fbi', 'director', 'james', 'comey', 'but', 'according', 'house', 'democratic', 'aide', 'looks', 'like', 'also', 'know', 'second', 'worst', 'person', 'well', 'turns', 'comey', 'sent', 'infamous', 'letter', 'announcing', 'fbi', 'looking', 'emails', 'may', 'related', 'hillary', 'clinton', 'email', 'server', 'ranking', 'democrats', 'relevant', 'committees', 'hear', 'comey', 'they', 'found', 'via', 'tweet', 'one', 'republican', 'committee', 'chairmen', 'know', 'comey', 'notified', 'republican', 'chairmen', 'democratic', 'ranking', 'members', 'house', 'intelligence', 'judiciary', 'oversight', 'committees', 'agency', 'reviewing', 'emails', 'recently', 'discovered', 'order', 'see', 'contained', 'classified', 'information', 'not', 'long', 'letter', 'went', 'oversight', 'committee', 'chairman', 'jason', 'chaffetz', 'set', 'political', 'world', 'ablaze', 'tweet', 'fbi', 'dir', 'informed', 'the', 'fbi', 'learned', 'existence', 'emails', 'appear', 'pertinent', 'investigation', 'case', 'reopened', 'jason', 'chaffetz', 'jasoninthehouse', 'october', 'course', 'know', 'case', 'comey', 'actually', 'saying', 'reviewing', 'emails', 'light', 'unrelated', 'case', 'know', 'anthony', 'weiner', 'sexting', 'teenager', 'but', 'apparently', 'little', 'things', 'facts', 'matter', 'chaffetz', 'the', 'utah', 'republican', 'already', 'vowed', 'initiate', 'raft', 'investigations', 'hillary', 'wins', 'least', 'two', 'years', 'worth', 'possibly', 'entire', 'term', 'worth', 'apparently', 'chaffetz', 'thought', 'fbi', 'already', 'work', 'resulting', 'tweet', 'briefly', 'roiled', 'nation', 'cooler', 'heads', 'realized', 'dud', 'but', 'according', 'senior', 'house', 'democratic', 'aide', 'misreading', 'letter', 'may', 'least', 'chaffetz', 'sins', 'that', 'aide', 'told', 'shareblue', 'boss', 'democrats', 'even', 'know', 'comey', 'letter', 'time', 'found', 'checked', 'twitter', 'democratic', 'ranking', 'members', 'relevant', 'committees', 'receive', 'comey', 'letter', 'republican', 'chairmen', 'fact', 'democratic', 'ranking', 'members', 'receive', 'chairman', 'oversight', 'government', 'reform', 'committee', 'jason', 'chaffetz', 'tweeted', 'made', 'public', 'let', 'see', 'got', 'right', 'the', 'fbi', 'director', 'tells', 'chaffetz', 'gop', 'committee', 'chairmen', 'major', 'development', 'potentially', 'politically', 'explosive', 'investigation', 'neither', 'chaffetz', 'colleagues', 'courtesy', 'let', 'democratic', 'counterparts', 'know', 'instead', 'according', 'aide', 'made', 'find', 'twitter', 'there', 'already', 'talk', 'daily', 'kos', 'comey', 'provided', 'advance', 'notice', 'letter', 'chaffetz', 'republicans', 'giving', 'time', 'turn', 'spin', 'machine', 'that', 'may', 'make', 'good', 'theater', 'nothing', 'far', 'even', 'suggests', 'case', 'after', 'nothing', 'far', 'suggests', 'comey', 'anything', 'grossly', 'incompetent', 'tone', 'deaf', 'what', 'suggest', 'however', 'chaffetz', 'acting', 'way', 'makes', 'dan', 'burton', 'darrell', 'issa', 'look', 'like', 'models', 'responsibility', 'bipartisanship', 'even', 'decency', 'notify', 'ranking', 'member', 'elijah', 'cummings', 'something', 'explosive', 'trample', 'basic', 'standards', 'fairness', 'know', 'granted', 'likely', 'chaffetz', 'answer', 'sits', 'ridiculously', 'republican', 'district', 'anchored', 'provo', 'orem', 'cook', 'partisan', 'voting', 'index', 'gave', 'mitt', 'romney', 'punishing', 'percent', 'vote', 'moreover', 'republican', 'house', 'leadership', 'given', 'full', 'support', 'chaffetz', 'planned', 'fishing', 'expedition', 'but', 'mean', 'turn', 'hot', 'lights', 'after', 'textbook', 'example', 'house', 'become', 'republican', 'control', 'and', 'also', 'second', 'worst', 'person', 'world', 'about', 'darrell', 'lucus', 'darrell', 'something', 'graduate', 'university', 'north', 'carolina', 'considers', 'journalist', 'old', 'school', 'attempt', 'turn', 'member', 'religious', 'right', 'college', 'succeeded', 'turning', 'religious', 'right', 'worst', 'nightmare', 'charismatic', 'christian', 'unapologetic', 'liberal', 'his', 'desire', 'stand', 'scared', 'silence', 'increased', 'survived', 'abusive', 'three', 'year', 'marriage', 'you', 'may', 'know', 'daily', 'kos', 'christian', 'dem', 'follow', 'twitter', 'darrelllucus', 'connect', 'facebook', 'click', 'buy', 'darrell', 'mello', 'yello', 'connect']\n"
     ]
    }
   ],
   "source": [
    "print(filtered_texts_train[0])"
   ]
  },
  {
   "cell_type": "code",
   "execution_count": 9,
   "id": "477d5406",
   "metadata": {},
   "outputs": [
    {
     "name": "stdout",
     "output_type": "stream",
     "text": [
      "20800\n",
      "20800\n"
     ]
    }
   ],
   "source": [
    "print(len(filtered_texts_train))\n",
    "print(len(df_train[\"text\"]))"
   ]
  },
  {
   "cell_type": "code",
   "execution_count": 10,
   "id": "b3432eed",
   "metadata": {},
   "outputs": [
    {
     "data": {
      "text/plain": [
       "0                                    Darrell Lucus\n",
       "1                                  Daniel J. Flynn\n",
       "2                               Consortiumnews.com\n",
       "3                                  Jessica Purkiss\n",
       "4                                   Howard Portnoy\n",
       "                           ...                    \n",
       "20795                                Jerome Hudson\n",
       "20796                             Benjamin Hoffman\n",
       "20797    Michael J. de la Merced and Rachel Abrams\n",
       "20798                                  Alex Ansary\n",
       "20799                                David Swanson\n",
       "Name: author, Length: 20800, dtype: object"
      ]
     },
     "execution_count": 10,
     "metadata": {},
     "output_type": "execute_result"
    }
   ],
   "source": [
    "df_train[\"author\"]"
   ]
  },
  {
   "cell_type": "code",
   "execution_count": 11,
   "id": "ed3638f8",
   "metadata": {},
   "outputs": [],
   "source": [
    "# Create dataframe from 2 vectors and filter\n",
    "df_train = pd.DataFrame({'author': df_train[\"author\"], 'text': filtered_texts_train, 'label': df_train[\"label\"]})\n",
    "df_test = pd.DataFrame({'author': df_test[\"author\"], 'text': filtered_texts_test, 'label': df_test[\"label\"]})\n"
   ]
  },
  {
   "cell_type": "code",
   "execution_count": 12,
   "id": "a811cb03",
   "metadata": {},
   "outputs": [],
   "source": [
    "df_train_shorter = df_train[df_train['text'].str.len() > 10]\n",
    "df_test_shorter = df_test[df_test['text'].str.len() > 10]"
   ]
  },
  {
   "cell_type": "code",
   "execution_count": 21,
   "id": "73964b11",
   "metadata": {},
   "outputs": [
    {
     "data": {
      "text/html": [
       "<div>\n",
       "<style scoped>\n",
       "    .dataframe tbody tr th:only-of-type {\n",
       "        vertical-align: middle;\n",
       "    }\n",
       "\n",
       "    .dataframe tbody tr th {\n",
       "        vertical-align: top;\n",
       "    }\n",
       "\n",
       "    .dataframe thead th {\n",
       "        text-align: right;\n",
       "    }\n",
       "</style>\n",
       "<table border=\"1\" class=\"dataframe\">\n",
       "  <thead>\n",
       "    <tr style=\"text-align: right;\">\n",
       "      <th></th>\n",
       "      <th>author</th>\n",
       "      <th>text</th>\n",
       "      <th>label</th>\n",
       "    </tr>\n",
       "  </thead>\n",
       "  <tbody>\n",
       "    <tr>\n",
       "      <th>0</th>\n",
       "      <td>Darrell Lucus</td>\n",
       "      <td>[house, dem, aide, didn, even, see, comey, let...</td>\n",
       "      <td>1</td>\n",
       "    </tr>\n",
       "    <tr>\n",
       "      <th>1</th>\n",
       "      <td>Daniel J. Flynn</td>\n",
       "      <td>[ever, get, feeling, life, circles, roundabout...</td>\n",
       "      <td>0</td>\n",
       "    </tr>\n",
       "    <tr>\n",
       "      <th>2</th>\n",
       "      <td>Consortiumnews.com</td>\n",
       "      <td>[why, truth, might, get, you, fired, october, ...</td>\n",
       "      <td>1</td>\n",
       "    </tr>\n",
       "    <tr>\n",
       "      <th>3</th>\n",
       "      <td>Jessica Purkiss</td>\n",
       "      <td>[videos, civilians, killed, single, airstrike,...</td>\n",
       "      <td>1</td>\n",
       "    </tr>\n",
       "    <tr>\n",
       "      <th>4</th>\n",
       "      <td>Howard Portnoy</td>\n",
       "      <td>[print, iranian, woman, sentenced, six, years,...</td>\n",
       "      <td>1</td>\n",
       "    </tr>\n",
       "    <tr>\n",
       "      <th>...</th>\n",
       "      <td>...</td>\n",
       "      <td>...</td>\n",
       "      <td>...</td>\n",
       "    </tr>\n",
       "    <tr>\n",
       "      <th>25222</th>\n",
       "      <td>Jody Rosen</td>\n",
       "      <td>[dysfunctions, plague, world, megacities, none...</td>\n",
       "      <td>0</td>\n",
       "    </tr>\n",
       "    <tr>\n",
       "      <th>25223</th>\n",
       "      <td>Sheryl Gay Stolberg</td>\n",
       "      <td>[washington, gov, john, kasich, ohio, tuesday,...</td>\n",
       "      <td>1</td>\n",
       "    </tr>\n",
       "    <tr>\n",
       "      <th>25224</th>\n",
       "      <td>Mike McPhate</td>\n",
       "      <td>[good, morning, want, get, california, today, ...</td>\n",
       "      <td>0</td>\n",
       "    </tr>\n",
       "    <tr>\n",
       "      <th>25225</th>\n",
       "      <td>NaN</td>\n",
       "      <td>[previous, next, marines, deployed, russian, b...</td>\n",
       "      <td>1</td>\n",
       "    </tr>\n",
       "    <tr>\n",
       "      <th>25226</th>\n",
       "      <td>Teddy Wayne</td>\n",
       "      <td>[perhaps, seen, new, series, whose, pilot, epi...</td>\n",
       "      <td>0</td>\n",
       "    </tr>\n",
       "  </tbody>\n",
       "</table>\n",
       "<p>25227 rows × 3 columns</p>\n",
       "</div>"
      ],
      "text/plain": [
       "                    author                                               text  \\\n",
       "0            Darrell Lucus  [house, dem, aide, didn, even, see, comey, let...   \n",
       "1          Daniel J. Flynn  [ever, get, feeling, life, circles, roundabout...   \n",
       "2       Consortiumnews.com  [why, truth, might, get, you, fired, october, ...   \n",
       "3          Jessica Purkiss  [videos, civilians, killed, single, airstrike,...   \n",
       "4           Howard Portnoy  [print, iranian, woman, sentenced, six, years,...   \n",
       "...                    ...                                                ...   \n",
       "25222           Jody Rosen  [dysfunctions, plague, world, megacities, none...   \n",
       "25223  Sheryl Gay Stolberg  [washington, gov, john, kasich, ohio, tuesday,...   \n",
       "25224         Mike McPhate  [good, morning, want, get, california, today, ...   \n",
       "25225                  NaN  [previous, next, marines, deployed, russian, b...   \n",
       "25226          Teddy Wayne  [perhaps, seen, new, series, whose, pilot, epi...   \n",
       "\n",
       "       label  \n",
       "0          1  \n",
       "1          0  \n",
       "2          1  \n",
       "3          1  \n",
       "4          1  \n",
       "...      ...  \n",
       "25222      0  \n",
       "25223      1  \n",
       "25224      0  \n",
       "25225      1  \n",
       "25226      0  \n",
       "\n",
       "[25227 rows x 3 columns]"
      ]
     },
     "execution_count": 21,
     "metadata": {},
     "output_type": "execute_result"
    }
   ],
   "source": [
    "frames = [df_train_shorter, df_test_shorter]\n",
    "df = pd.concat(frames, ignore_index=True)\n",
    "\n",
    "df"
   ]
  },
  {
   "cell_type": "code",
   "execution_count": 23,
   "id": "0c31ec02",
   "metadata": {},
   "outputs": [],
   "source": [
    "# Create vocabulary\n",
    "def create_vocab(df, label, filename):\n",
    "    vocabulary, index   = {}, 1\n",
    "    vocabulary[\"<pad>\"] = 0 # padding token\n",
    "\n",
    "    if label == \"author\":\n",
    "        for author in df[label]:\n",
    "            if author not in vocabulary:\n",
    "                vocabulary[author] = index\n",
    "                index += 1\n",
    "    else:\n",
    "        for tokens in df[label]:\n",
    "            for token in tokens:\n",
    "                if token not in vocabulary:\n",
    "                    vocabulary[token] = index\n",
    "                    index += 1\n",
    "        \n",
    "    with open(filename, 'w') as file:\n",
    "        json.dumps(vocabulary, indent=4)\n",
    "    \n",
    "    return vocabulary\n",
    "\n",
    "# Create inverse vocabulary\n",
    "def create_inverse_vocab(vocab, filename):\n",
    "    inverse_vocab = {index: token for token, index in vocabulary.items()}\n",
    "\n",
    "    with open(filename, 'w') as file:\n",
    "        json.dump(inverse_vocab, file, indent=4)\n",
    "\n",
    "    return inverse_vocab"
   ]
  },
  {
   "cell_type": "code",
   "execution_count": 25,
   "id": "0d45c0f2",
   "metadata": {},
   "outputs": [],
   "source": [
    "text_vocab = create_vocab(df, \"text\", \"./data/text_vocab.json\")\n",
    "author_vocab = create_vocab(df, \"author\", \"./data/author_vocab.json\")\n",
    "\n",
    "inverse_text_vocab = create_inverse_vocab(text_vocab, \"./data/inverse_text_vocab.json\")\n",
    "inverse_author_vocab = create_inverse_vocab(author_vocab, \"./data/inverse_author_vocab.json\")"
   ]
  },
  {
   "cell_type": "code",
   "execution_count": null,
   "id": "22a6a20d",
   "metadata": {},
   "outputs": [],
   "source": [
    "# Vectorize\n",
    "\n",
    "vectorized_sequence = [vocabulary[word] for word in tokens]\n",
    "\n",
    "vectorized_sequence"
   ]
  },
  {
   "cell_type": "code",
   "execution_count": 26,
   "id": "932efa58",
   "metadata": {},
   "outputs": [],
   "source": [
    "df_train_shorter.to_csv(\"train_data.csv\", index=False)"
   ]
  },
  {
   "cell_type": "code",
   "execution_count": 27,
   "id": "766bcdf1",
   "metadata": {},
   "outputs": [],
   "source": [
    "df_test_shorter.to_csv(\"test_data.csv\", index=False)"
   ]
  }
 ],
 "metadata": {
  "kernelspec": {
   "display_name": "Python 3.10.3 64-bit",
   "language": "python",
   "name": "python3"
  },
  "language_info": {
   "codemirror_mode": {
    "name": "ipython",
    "version": 3
   },
   "file_extension": ".py",
   "mimetype": "text/x-python",
   "name": "python",
   "nbconvert_exporter": "python",
   "pygments_lexer": "ipython3",
   "version": "3.10.3"
  },
  "vscode": {
   "interpreter": {
    "hash": "1f8c03f552119a08b050861f96dc0d6633087e20f29f534aef895879f6be696f"
   }
  }
 },
 "nbformat": 4,
 "nbformat_minor": 5
}
